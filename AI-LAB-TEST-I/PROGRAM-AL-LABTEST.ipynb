{
 "cells": [
  {
   "cell_type": "markdown",
   "metadata": {
    "papermill": {
     "duration": 0.007374,
     "end_time": "2020-11-09T05:30:19.519723",
     "exception": false,
     "start_time": "2020-11-09T05:30:19.512349",
     "status": "completed"
    },
    "tags": []
   },
   "source": []
  },
  {
   "cell_type": "code",
   "execution_count": 1,
   "metadata": {
    "execution": {
     "iopub.execute_input": "2020-11-09T05:30:19.545077Z",
     "iopub.status.busy": "2020-11-09T05:30:19.543956Z",
     "iopub.status.idle": "2020-11-09T05:30:19.547672Z",
     "shell.execute_reply": "2020-11-09T05:30:19.546836Z"
    },
    "papermill": {
     "duration": 0.019921,
     "end_time": "2020-11-09T05:30:19.547820",
     "exception": false,
     "start_time": "2020-11-09T05:30:19.527899",
     "status": "completed"
    },
    "tags": []
   },
   "outputs": [],
   "source": [
    "# Depth first search in search of target - Using Recursion\n",
    "def dfs(src,target,limit,visited_states):\n",
    "    \n",
    "    if src==target:\n",
    "        return True\n",
    "    \n",
    "    if limit<=0:\n",
    "        return False\n",
    "    \n",
    "    visited_states.append(src)\n",
    "    \n",
    "    \n",
    "    adj = possible_moves(src,visited_states)\n",
    "    \n",
    "    for move in adj:\n",
    "        if dfs(move,target,limit-1,visited_states):\n",
    "            return True\n",
    "    return False"
   ]
  },
  {
   "cell_type": "code",
   "execution_count": 2,
   "metadata": {
    "execution": {
     "iopub.execute_input": "2020-11-09T05:30:19.576811Z",
     "iopub.status.busy": "2020-11-09T05:30:19.575486Z",
     "iopub.status.idle": "2020-11-09T05:30:19.581112Z",
     "shell.execute_reply": "2020-11-09T05:30:19.579964Z"
    },
    "papermill": {
     "duration": 0.027099,
     "end_time": "2020-11-09T05:30:19.581463",
     "exception": false,
     "start_time": "2020-11-09T05:30:19.554364",
     "status": "completed"
    },
    "tags": []
   },
   "outputs": [],
   "source": [
    "def possible_moves(state,visited_states): \n",
    "    # Find index of empty spot and assign it to b\n",
    "    \n",
    "    b = state.index('-1')  \n",
    "    \n",
    "    #'d' for down, 'u' for up, 'r' for right, 'l' for left - directions array\n",
    "    d = []\n",
    "                                    \n",
    "    #Add all possible direction into directions array - Hint using if statements\n",
    "    \n",
    "    if b+3 in range(9):\n",
    "        d.append('d')\n",
    "    if b-3 in range(9):\n",
    "        d.append('u')\n",
    "    if b not in [0,3,6]:\n",
    "        d.append('l')\n",
    "    if b not in [2,5,8]:\n",
    "        d.append('r')\n",
    "    \n",
    "    # If direction is possible then add state to move\n",
    "    pos_moves = []\n",
    "    \n",
    "    # for all possible directions find the state if that move is played\n",
    "    ### Jump to gen function to generate all possible moves in the given directions\n",
    "    for move in d:\n",
    "        pos_moves.append(gen(state,move,b))\n",
    "        \n",
    "    # return all possible moves only if the move not in visited_states\n",
    "    return [move for move in pos_moves if move not in visited_states]\n",
    "\n"
   ]
  },
  {
   "cell_type": "code",
   "execution_count": 3,
   "metadata": {
    "execution": {
     "iopub.execute_input": "2020-11-09T05:30:19.611021Z",
     "iopub.status.busy": "2020-11-09T05:30:19.609933Z",
     "iopub.status.idle": "2020-11-09T05:30:19.613314Z",
     "shell.execute_reply": "2020-11-09T05:30:19.612557Z"
    },
    "papermill": {
     "duration": 0.024374,
     "end_time": "2020-11-09T05:30:19.613442",
     "exception": false,
     "start_time": "2020-11-09T05:30:19.589068",
     "status": "completed"
    },
    "tags": []
   },
   "outputs": [],
   "source": [
    "def gen(state, m, b): # m(move) is direction to slide, b(blank) is index of empty spotdef gen(state, m, b): # m(move) is direction to slide, b(blank) is index of empty spot\n",
    "    # create a copy of current state to test the move\n",
    "    temp = state.copy()                            \n",
    "    \n",
    "    # if move is to slide empty spot to the left and so on\n",
    "    \n",
    "    if m=='d':\n",
    "        a = temp[b+3]\n",
    "        temp[b+3]=temp[b]\n",
    "        temp[b]=a\n",
    "    elif m=='u':\n",
    "        a = temp[b-3]\n",
    "        temp[b-3]=temp[b]\n",
    "        temp[b]=a\n",
    "    elif m=='l':\n",
    "        a = temp[b-1]\n",
    "        temp[b-1]=temp[b]\n",
    "        temp[b]=a\n",
    "    elif m=='r':\n",
    "        a = temp[b+1]\n",
    "        temp[b+1]=temp[b]\n",
    "        temp[b]=a\n",
    "    \n",
    "    # return new state with tested move to later check if \"src == target\"\n",
    "    return temp"
   ]
  },
  {
   "cell_type": "code",
   "execution_count": 4,
   "metadata": {
    "execution": {
     "iopub.execute_input": "2020-11-09T05:30:19.638127Z",
     "iopub.status.busy": "2020-11-09T05:30:19.637255Z",
     "iopub.status.idle": "2020-11-09T05:30:19.642237Z",
     "shell.execute_reply": "2020-11-09T05:30:19.641400Z"
    },
    "papermill": {
     "duration": 0.020037,
     "end_time": "2020-11-09T05:30:19.642371",
     "exception": false,
     "start_time": "2020-11-09T05:30:19.622334",
     "status": "completed"
    },
    "tags": []
   },
   "outputs": [],
   "source": [
    "def iddfs(src,target,depth):\n",
    "    visited_states = []\n",
    "    # Return Min depth at which the target was found\n",
    "    for i in range(1, depth+1):\n",
    "        if dfs(src, target, i, visited_states): return True\n",
    "    return False\n"
   ]
  },
  {
   "cell_type": "code",
   "execution_count": 5,
   "metadata": {
    "execution": {
     "iopub.execute_input": "2020-11-09T05:30:19.666190Z",
     "iopub.status.busy": "2020-11-09T05:30:19.665149Z",
     "iopub.status.idle": "2020-11-09T05:30:19.669298Z",
     "shell.execute_reply": "2020-11-09T05:30:19.670430Z"
    },
    "papermill": {
     "duration": 0.021775,
     "end_time": "2020-11-09T05:30:19.671034",
     "exception": false,
     "start_time": "2020-11-09T05:30:19.649259",
     "status": "completed"
    },
    "tags": []
   },
   "outputs": [
    {
     "name": "stdout",
     "output_type": "stream",
     "text": [
      "False\n"
     ]
    }
   ],
   "source": [
    "src = ['*','2','4','*','-1','*','*','3','1']\n",
    "target = ['-1','1','2','3','4','*','*','*','*']         \n",
    "       \n",
    "\n",
    "\n",
    "depth = 4\n",
    "print(iddfs(src, target, depth))"
   ]
  }
 ],
 "metadata": {
  "kernelspec": {
   "display_name": "Python 3",
   "language": "python",
   "name": "python3"
  },
  "language_info": {
   "codemirror_mode": {
    "name": "ipython",
    "version": 3
   },
   "file_extension": ".py",
   "mimetype": "text/x-python",
   "name": "python",
   "nbconvert_exporter": "python",
   "pygments_lexer": "ipython3",
   "version": "3.7.6"
  },
  "papermill": {
   "duration": 7.134672,
   "end_time": "2020-11-09T05:30:20.722073",
   "environment_variables": {},
   "exception": null,
   "input_path": "__notebook__.ipynb",
   "output_path": "__notebook__.ipynb",
   "parameters": {},
   "start_time": "2020-11-09T05:30:13.587401",
   "version": "2.1.0"
  }
 },
 "nbformat": 4,
 "nbformat_minor": 4
}
