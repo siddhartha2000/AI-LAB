{
 "cells": [
  {
   "cell_type": "code",
   "execution_count": 1,
   "metadata": {
    "_cell_guid": "79c7e3d0-c299-4dcb-8224-4455121ee9b0",
    "_uuid": "d629ff2d2480ee46fbb7e2d37f6b5fab8052498a",
    "execution": {
     "iopub.execute_input": "2020-12-28T05:21:30.820233Z",
     "iopub.status.busy": "2020-12-28T05:21:30.818986Z",
     "iopub.status.idle": "2020-12-28T05:21:30.822551Z",
     "shell.execute_reply": "2020-12-28T05:21:30.821882Z"
    },
    "papermill": {
     "duration": 0.018187,
     "end_time": "2020-12-28T05:21:30.822676",
     "exception": false,
     "start_time": "2020-12-28T05:21:30.804489",
     "status": "completed"
    },
    "tags": []
   },
   "outputs": [],
   "source": [
    "\n",
    "import re\n",
    "\n",
    "def isVariable(x):\n",
    "    return len(x) == 1 and x.islower()\n",
    "\n",
    "def getAttributes(string):\n",
    "    expr = '\\([^)]+\\)'\n",
    "    return re.findall('\\([^)]+\\)', string)\n",
    "\n",
    "def getPredicates(string):\n",
    "    return re.findall('([a-z~]+)\\([^&]+\\)', string)"
   ]
  },
  {
   "cell_type": "code",
   "execution_count": 2,
   "metadata": {
    "execution": {
     "iopub.execute_input": "2020-12-28T05:21:30.845267Z",
     "iopub.status.busy": "2020-12-28T05:21:30.844152Z",
     "iopub.status.idle": "2020-12-28T05:21:30.847999Z",
     "shell.execute_reply": "2020-12-28T05:21:30.847393Z"
    },
    "papermill": {
     "duration": 0.02,
     "end_time": "2020-12-28T05:21:30.848111",
     "exception": false,
     "start_time": "2020-12-28T05:21:30.828111",
     "status": "completed"
    },
    "tags": []
   },
   "outputs": [],
   "source": [
    "class Fact:\n",
    "    def __init__(self, expression):\n",
    "        self.expression = expression\n",
    "        predicate, params = self.splitExpression(expression)\n",
    "        self.predicate = predicate\n",
    "        self.params = params\n",
    "        self.result = any(self.getConstants())\n",
    "        \n",
    "    def splitExpression(self, expression):\n",
    "        predicate = getPredicates(expression)[0]\n",
    "        params = getAttributes(expression)[0].strip('()').split(',')\n",
    "        return [predicate, params]\n",
    "    \n",
    "    def getResult(self):\n",
    "        return self.result\n",
    "    \n",
    "    def getConstants(self):\n",
    "        return [None if isVariable(c) else c for c in self.params]\n",
    "    \n",
    "    def getVariables(self):\n",
    "        return [v if isVariable(v) else None for v in self.params]\n"
   ]
  },
  {
   "cell_type": "code",
   "execution_count": 3,
   "metadata": {
    "execution": {
     "iopub.execute_input": "2020-12-28T05:21:30.864134Z",
     "iopub.status.busy": "2020-12-28T05:21:30.863106Z",
     "iopub.status.idle": "2020-12-28T05:21:30.877385Z",
     "shell.execute_reply": "2020-12-28T05:21:30.876754Z"
    },
    "papermill": {
     "duration": 0.024256,
     "end_time": "2020-12-28T05:21:30.877520",
     "exception": false,
     "start_time": "2020-12-28T05:21:30.853264",
     "status": "completed"
    },
    "tags": []
   },
   "outputs": [],
   "source": [
    "class Implication:\n",
    "    def __init__(self, expression):\n",
    "        self.expression = expression\n",
    "        l = expression.split('=>')\n",
    "        self.lhs = [Fact(f) for f in l[0].split('&')]\n",
    "        self.rhs = Fact(l[1])\n",
    "        \n",
    "    def evaluate(self, facts):\n",
    "        constants = {}\n",
    "        new_lhs = []\n",
    "        for fact in facts:\n",
    "            for val in self.lhs + [self.rhs]:\n",
    "                if val.predicate == fact.predicate:\n",
    "                    for i, v in enumerate(val.getVariables()):\n",
    "                        if v:\n",
    "                            constants[v] = fact.getConstants()[i]\n",
    "                    new_lhs.append(fact)\n",
    "        predicate, attributes = self.rhs.predicate, '('+','.join(self.rhs.params)+')'\n",
    "        for key in constants:\n",
    "            if constants[key]:\n",
    "                attributes = attributes.replace(key, constants[key])\n",
    "        expr = f'{predicate}{attributes}'\n",
    "        return Fact(expr) if len(new_lhs) and all([f.getResult() for f in new_lhs]) else None\n"
   ]
  },
  {
   "cell_type": "code",
   "execution_count": 4,
   "metadata": {
    "execution": {
     "iopub.execute_input": "2020-12-28T05:21:30.903835Z",
     "iopub.status.busy": "2020-12-28T05:21:30.903121Z",
     "iopub.status.idle": "2020-12-28T05:21:30.905964Z",
     "shell.execute_reply": "2020-12-28T05:21:30.906494Z"
    },
    "papermill": {
     "duration": 0.023866,
     "end_time": "2020-12-28T05:21:30.906637",
     "exception": false,
     "start_time": "2020-12-28T05:21:30.882771",
     "status": "completed"
    },
    "tags": []
   },
   "outputs": [],
   "source": [
    "class KB:\n",
    "    def __init__(self):\n",
    "        self.facts = set()\n",
    "        self.implications = set()\n",
    "            \n",
    "    def tell(self, e):\n",
    "        if '=>' in e:\n",
    "            self.implications.add(Implication(e))\n",
    "        else:\n",
    "            self.facts.add(Fact(e))\n",
    "        for i in self.implications:\n",
    "            res = i.evaluate(self.facts)\n",
    "            if res:\n",
    "                self.facts.add(res)\n",
    "\n",
    "    def query(self, e):\n",
    "        for i in self.implications:\n",
    "            res = i.evaluate(self.facts)\n",
    "            if res:\n",
    "                self.facts.add(res)\n",
    "        facts = set([f.expression for f in self.facts])\n",
    "        i = 1\n",
    "        print(f'Querying {e}:')\n",
    "        for f in facts:\n",
    "            if Fact(f).expression == Fact(e).expression:\n",
    "                print(f'The query {e} is satisfied.')\n",
    "                return\n",
    "        print(f'The query {e} is refuted.')\n",
    "    \n",
    "    def display(self):\n",
    "        for i in self.implications:\n",
    "            res = i.evaluate(self.facts)\n",
    "            if res:\n",
    "                self.facts.add(res)\n",
    "        print(\"All facts: \")\n",
    "        for i, f in enumerate(set([f.expression for f in self.facts])):\n",
    "            print(f'\\t{i+1}. {f}')\n"
   ]
  },
  {
   "cell_type": "code",
   "execution_count": 5,
   "metadata": {
    "execution": {
     "iopub.execute_input": "2020-12-28T05:21:30.920758Z",
     "iopub.status.busy": "2020-12-28T05:21:30.920047Z",
     "iopub.status.idle": "2020-12-28T05:21:30.929270Z",
     "shell.execute_reply": "2020-12-28T05:21:30.929792Z"
    },
    "papermill": {
     "duration": 0.017998,
     "end_time": "2020-12-28T05:21:30.929951",
     "exception": false,
     "start_time": "2020-12-28T05:21:30.911953",
     "status": "completed"
    },
    "tags": []
   },
   "outputs": [
    {
     "name": "stdout",
     "output_type": "stream",
     "text": [
      "Querying uniclosed(Today):\n",
      "The query uniclosed(Today) is satisfied.\n",
      "\n",
      "All facts: \n",
      "\t1. uniclosed(Today)\n",
      "\t2. ~saturday(Today)\n",
      "\t3. holiday(Today)\n",
      "\t4. weekend(Today)\n",
      "\t5. sunday(Today)\n"
     ]
    }
   ],
   "source": [
    "kb = KB()\n",
    "kb.tell('sunday(x)=>holiday(x)') \n",
    "kb.tell('saturday(x)=>weekend(x)')\n",
    "kb.tell('sunday(x)=>weekend(x)')\n",
    "kb.tell('holiday(x)=>uniclosed(x)')\n",
    "kb.tell('sunday(Today)')\n",
    "kb.tell('~saturday(Today)')\n",
    "\n",
    "kb.query('uniclosed(Today)')      \n",
    "print()\n",
    "kb.display()"
   ]
  }
 ],
 "metadata": {
  "kernelspec": {
   "display_name": "Python 3",
   "language": "python",
   "name": "python3"
  },
  "language_info": {
   "codemirror_mode": {
    "name": "ipython",
    "version": 3
   },
   "file_extension": ".py",
   "mimetype": "text/x-python",
   "name": "python",
   "nbconvert_exporter": "python",
   "pygments_lexer": "ipython3",
   "version": "3.7.6"
  },
  "papermill": {
   "duration": 5.320356,
   "end_time": "2020-12-28T05:21:31.044312",
   "environment_variables": {},
   "exception": null,
   "input_path": "__notebook__.ipynb",
   "output_path": "__notebook__.ipynb",
   "parameters": {},
   "start_time": "2020-12-28T05:21:25.723956",
   "version": "2.1.0"
  }
 },
 "nbformat": 4,
 "nbformat_minor": 4
}
