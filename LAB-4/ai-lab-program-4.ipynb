{
 "cells": [
  {
   "cell_type": "markdown",
   "metadata": {
    "_cell_guid": "b1076dfc-b9ad-4769-8c92-a6c4dae69d19",
    "_uuid": "8f2839f25d086af736a60e9eeb907d3b93b6e0e5",
    "papermill": {
     "duration": 0.009098,
     "end_time": "2020-11-08T22:44:21.527360",
     "exception": false,
     "start_time": "2020-11-08T22:44:21.518262",
     "status": "completed"
    },
    "tags": []
   },
   "source": [
    "# 8 Puzzle Problem"
   ]
  },
  {
   "cell_type": "markdown",
   "metadata": {
    "_cell_guid": "79c7e3d0-c299-4dcb-8224-4455121ee9b0",
    "_uuid": "d629ff2d2480ee46fbb7e2d37f6b5fab8052498a",
    "collapsed": true,
    "papermill": {
     "duration": 0.007623,
     "end_time": "2020-11-08T22:44:21.543264",
     "exception": false,
     "start_time": "2020-11-08T22:44:21.535641",
     "status": "completed"
    },
    "tags": []
   },
   "source": [
    "BMS College of Engineering - Dr Kavitha Sooda <br />\n",
    "BMS College of Engineering - Dr Nagarathna N <br />\n",
    "BMS College of Engineering - Prof G R Asha  <br />\n",
    "##### Class 5C"
   ]
  },
  {
   "cell_type": "markdown",
   "metadata": {
    "papermill": {
     "duration": 0.007511,
     "end_time": "2020-11-08T22:44:21.558722",
     "exception": false,
     "start_time": "2020-11-08T22:44:21.551211",
     "status": "completed"
    },
    "tags": []
   },
   "source": [
    "## Objective\n",
    " Given a 3×3 board with 8 tiles and one empty space \n",
    " - Move the numbers around to match the final configuration using the empty spot \n",
    " - You can slide the numbers from above, below, left and right tiles into the empty space.\n",
    "![](https://media.geeksforgeeks.org/wp-content/uploads/puzzle8init.jpg)"
   ]
  },
  {
   "cell_type": "markdown",
   "metadata": {
    "papermill": {
     "duration": 0.007558,
     "end_time": "2020-11-08T22:44:21.574206",
     "exception": false,
     "start_time": "2020-11-08T22:44:21.566648",
     "status": "completed"
    },
    "tags": []
   },
   "source": [
    "# Use A* Algorithm\n",
    "\n",
    "![](https://media.geeksforgeeks.org/wp-content/uploads/puzzle-1.jpg)"
   ]
  },
  {
   "cell_type": "markdown",
   "metadata": {
    "papermill": {
     "duration": 0.007532,
     "end_time": "2020-11-08T22:44:21.589674",
     "exception": false,
     "start_time": "2020-11-08T22:44:21.582142",
     "status": "completed"
    },
    "tags": []
   },
   "source": [
    "## 1. Create the function that finds us the total estimated cost of path through node n - F(n)\n",
    "- Create a way to find cost so far to reach node n - G(n) \n",
    "- Create a heuristic function to estimate cost from n to goal - H(n)"
   ]
  },
  {
   "cell_type": "code",
   "execution_count": 1,
   "metadata": {
    "execution": {
     "iopub.execute_input": "2020-11-08T22:44:21.611740Z",
     "iopub.status.busy": "2020-11-08T22:44:21.610729Z",
     "iopub.status.idle": "2020-11-08T22:44:21.614003Z",
     "shell.execute_reply": "2020-11-08T22:44:21.613296Z"
    },
    "papermill": {
     "duration": 0.015027,
     "end_time": "2020-11-08T22:44:21.614134",
     "exception": false,
     "start_time": "2020-11-08T22:44:21.599107",
     "status": "completed"
    },
    "tags": []
   },
   "outputs": [],
   "source": [
    "# def G_n(state):  #dist of curr node to root node\n",
    "#     # Note: You can skip this step if you feel you have a better way of getting G(n)"
   ]
  },
  {
   "cell_type": "code",
   "execution_count": 2,
   "metadata": {
    "execution": {
     "iopub.execute_input": "2020-11-08T22:44:21.637950Z",
     "iopub.status.busy": "2020-11-08T22:44:21.636998Z",
     "iopub.status.idle": "2020-11-08T22:44:21.640006Z",
     "shell.execute_reply": "2020-11-08T22:44:21.639405Z"
    },
    "papermill": {
     "duration": 0.017486,
     "end_time": "2020-11-08T22:44:21.640112",
     "exception": false,
     "start_time": "2020-11-08T22:44:21.622626",
     "status": "completed"
    },
    "tags": []
   },
   "outputs": [],
   "source": [
    "def H_n(state, target):   # no of misplaced tiles by comparing curr state to goal state \n",
    "    h = 0\n",
    "    for i in state:\n",
    "        i1, i2 = state.index(i), target.index(i)\n",
    "        y_1, x_1 = i1 % 3, i1 // 3\n",
    "        y_2, x_2 = i2 % 3, i2 // 3\n",
    "        h += abs(x_1-x_2) + abs(y_1-y_2)\n",
    "        \n",
    "    return h"
   ]
  },
  {
   "cell_type": "code",
   "execution_count": 3,
   "metadata": {
    "execution": {
     "iopub.execute_input": "2020-11-08T22:44:21.661349Z",
     "iopub.status.busy": "2020-11-08T22:44:21.660302Z",
     "iopub.status.idle": "2020-11-08T22:44:21.663678Z",
     "shell.execute_reply": "2020-11-08T22:44:21.663072Z"
    },
    "papermill": {
     "duration": 0.015389,
     "end_time": "2020-11-08T22:44:21.663785",
     "exception": false,
     "start_time": "2020-11-08T22:44:21.648396",
     "status": "completed"
    },
    "tags": []
   },
   "outputs": [],
   "source": [
    "# def F_n(g,h):# Fill inputs as necessary\n",
    "#     return f = g+h\n",
    "    "
   ]
  },
  {
   "cell_type": "markdown",
   "metadata": {
    "papermill": {
     "duration": 0.008101,
     "end_time": "2020-11-08T22:44:21.680182",
     "exception": false,
     "start_time": "2020-11-08T22:44:21.672081",
     "status": "completed"
    },
    "tags": []
   },
   "source": [
    "## 2. Create a Search function\n",
    "### To traverse across the tree using F(n) to select the next node\n",
    "    1. Make sure it to discard visited sites\n",
    "    2. Create possible moves function\n",
    "    3. Create move generator function\n"
   ]
  },
  {
   "cell_type": "code",
   "execution_count": 4,
   "metadata": {
    "execution": {
     "iopub.execute_input": "2020-11-08T22:44:21.705221Z",
     "iopub.status.busy": "2020-11-08T22:44:21.704607Z",
     "iopub.status.idle": "2020-11-08T22:44:21.707286Z",
     "shell.execute_reply": "2020-11-08T22:44:21.706709Z"
    },
    "papermill": {
     "duration": 0.019002,
     "end_time": "2020-11-08T22:44:21.707412",
     "exception": false,
     "start_time": "2020-11-08T22:44:21.688410",
     "status": "completed"
    },
    "tags": []
   },
   "outputs": [],
   "source": [
    "def astar(source, target):# Add inputs if more are required\n",
    "    g = 0\n",
    "    states = [source]\n",
    "    visited_states = []\n",
    "    while len(states):\n",
    "        print(\"Level :{}\".format(g))\n",
    "        mv = []\n",
    "        for state in states:\n",
    "            visited_states.append(state)\n",
    "            if state == target:\n",
    "                print(\"Success\")\n",
    "                return\n",
    "            mv += [move for move in possible_moves(state, visited_states) if move not in mv]\n",
    "        costs = [g + H_n(move, target) for move in mv]\n",
    "        states = [mv[i] for i in range(len(mv)) if costs[i] == min(costs)]\n",
    "        g += 1\n",
    "    print(\"Fail\")"
   ]
  },
  {
   "cell_type": "code",
   "execution_count": 5,
   "metadata": {
    "execution": {
     "iopub.execute_input": "2020-11-08T22:44:21.732295Z",
     "iopub.status.busy": "2020-11-08T22:44:21.731659Z",
     "iopub.status.idle": "2020-11-08T22:44:21.734763Z",
     "shell.execute_reply": "2020-11-08T22:44:21.734169Z"
    },
    "papermill": {
     "duration": 0.019099,
     "end_time": "2020-11-08T22:44:21.734881",
     "exception": false,
     "start_time": "2020-11-08T22:44:21.715782",
     "status": "completed"
    },
    "tags": []
   },
   "outputs": [],
   "source": [
    "def possible_moves(state,visited_states):# Add inputs if more are required\n",
    "    b = state.index(-1)\n",
    "    \n",
    "    d = []\n",
    "    \n",
    "  \n",
    "                                    \n",
    "    if b-3 in range(9):\n",
    "        d.append('u')\n",
    "    if b+3 in range(9):\n",
    "        d.append('d')\n",
    "    if b not in [0,3,6]: \n",
    "        d.append('l')\n",
    "    if b not in [2,5,8]: \n",
    "        d.append('r')\n",
    "    \n",
    "    \n",
    "    # If direction is possible then add state to move\n",
    "    pos_moves = []\n",
    "    \n",
    "    # for all possible directions find the state if that move is played\n",
    "    ### Jump to gen function to generate all possible moves in the given directions\n",
    "    for move in d:\n",
    "        pos_moves.append(gen(state,move,b))\n",
    "        \n",
    "    return [m for m in pos_moves if m not in visited_states ]"
   ]
  },
  {
   "cell_type": "code",
   "execution_count": 6,
   "metadata": {
    "execution": {
     "iopub.execute_input": "2020-11-08T22:44:21.760136Z",
     "iopub.status.busy": "2020-11-08T22:44:21.759210Z",
     "iopub.status.idle": "2020-11-08T22:44:21.762440Z",
     "shell.execute_reply": "2020-11-08T22:44:21.761834Z"
    },
    "papermill": {
     "duration": 0.019119,
     "end_time": "2020-11-08T22:44:21.762549",
     "exception": false,
     "start_time": "2020-11-08T22:44:21.743430",
     "status": "completed"
    },
    "tags": []
   },
   "outputs": [],
   "source": [
    "def gen(state, m, b):\n",
    "    temp = state.copy()                                \n",
    "    \n",
    "    # if move is to slide empty spot to the left and so on\n",
    "    if m == 'u': temp[b], temp[b-3] = temp[b-3], temp[b]\n",
    "    if m == 'd': temp[b], temp[b+3] = temp[b+3], temp[b]\n",
    "    if m == 'l': temp[b], temp[b-1] = temp[b-1], temp[b]\n",
    "    if m == 'r': temp[b], temp[b+1] = temp[b+1], temp[b]\n",
    "    \n",
    "    # return new state with tested move to later check if \"src == target\"\n",
    "    return temp"
   ]
  },
  {
   "cell_type": "code",
   "execution_count": 7,
   "metadata": {
    "execution": {
     "iopub.execute_input": "2020-11-08T22:44:21.785687Z",
     "iopub.status.busy": "2020-11-08T22:44:21.784971Z",
     "iopub.status.idle": "2020-11-08T22:44:21.788172Z",
     "shell.execute_reply": "2020-11-08T22:44:21.788660Z"
    },
    "papermill": {
     "duration": 0.017587,
     "end_time": "2020-11-08T22:44:21.788802",
     "exception": false,
     "start_time": "2020-11-08T22:44:21.771215",
     "status": "completed"
    },
    "tags": []
   },
   "outputs": [
    {
     "name": "stdout",
     "output_type": "stream",
     "text": [
      "Level :0\n",
      "Level :1\n",
      "Level :2\n",
      "Success\n"
     ]
    }
   ],
   "source": [
    "#Test 1\n",
    "src = [1,2,3,-1,4,5,6,7,8]\n",
    "target = [1,2,3,4,5,-1,6,7,8]         \n",
    "       \n",
    "\n",
    "\n",
    "astar(src, target) "
   ]
  },
  {
   "cell_type": "code",
   "execution_count": 8,
   "metadata": {
    "execution": {
     "iopub.execute_input": "2020-11-08T22:44:21.813301Z",
     "iopub.status.busy": "2020-11-08T22:44:21.812519Z",
     "iopub.status.idle": "2020-11-08T22:44:21.815784Z",
     "shell.execute_reply": "2020-11-08T22:44:21.816256Z"
    },
    "papermill": {
     "duration": 0.018288,
     "end_time": "2020-11-08T22:44:21.816425",
     "exception": false,
     "start_time": "2020-11-08T22:44:21.798137",
     "status": "completed"
    },
    "tags": []
   },
   "outputs": [
    {
     "name": "stdout",
     "output_type": "stream",
     "text": [
      "Level :0\n",
      "Level :1\n",
      "Success\n"
     ]
    }
   ],
   "source": [
    "# Test 2\n",
    "src = [1,2,3,-1,4,5,6,7,8] \n",
    "target=[1,2,3,6,4,5,-1,7,8]\n",
    "\n",
    "\n",
    "\n",
    "astar(src, target)"
   ]
  },
  {
   "cell_type": "code",
   "execution_count": 9,
   "metadata": {
    "execution": {
     "iopub.execute_input": "2020-11-08T22:44:21.842842Z",
     "iopub.status.busy": "2020-11-08T22:44:21.841816Z",
     "iopub.status.idle": "2020-11-08T22:44:21.847184Z",
     "shell.execute_reply": "2020-11-08T22:44:21.846408Z"
    },
    "papermill": {
     "duration": 0.021448,
     "end_time": "2020-11-08T22:44:21.847389",
     "exception": false,
     "start_time": "2020-11-08T22:44:21.825941",
     "status": "completed"
    },
    "tags": []
   },
   "outputs": [
    {
     "name": "stdout",
     "output_type": "stream",
     "text": [
      "Level :0\n",
      "Level :1\n",
      "Level :2\n",
      "Level :3\n",
      "Level :4\n",
      "Level :5\n",
      "Level :6\n",
      "Level :7\n",
      "Level :8\n",
      "Level :9\n",
      "Level :10\n",
      "Level :11\n",
      "Level :12\n",
      "Level :13\n",
      "Level :14\n",
      "Level :15\n",
      "Level :16\n",
      "Level :17\n",
      "Level :18\n",
      "Level :19\n",
      "Level :20\n",
      "Level :21\n",
      "Level :22\n",
      "Level :23\n",
      "Level :24\n",
      "Level :25\n",
      "Level :26\n",
      "Level :27\n",
      "Level :28\n",
      "Level :29\n",
      "Level :30\n",
      "Level :31\n",
      "Level :32\n",
      "Level :33\n",
      "Level :34\n",
      "Level :35\n",
      "Level :36\n",
      "Level :37\n",
      "Fail\n"
     ]
    }
   ],
   "source": [
    "# Test 3\n",
    "src = [1,2,3,7,4,5,6,-1,8] \n",
    "target=[1,2,3,6,4,5,-1,7,8]\n",
    "\n",
    "\n",
    "\n",
    "astar(src, target)"
   ]
  }
 ],
 "metadata": {
  "kernelspec": {
   "display_name": "Python 3",
   "language": "python",
   "name": "python3"
  },
  "language_info": {
   "codemirror_mode": {
    "name": "ipython",
    "version": 3
   },
   "file_extension": ".py",
   "mimetype": "text/x-python",
   "name": "python",
   "nbconvert_exporter": "python",
   "pygments_lexer": "ipython3",
   "version": "3.7.6"
  },
  "papermill": {
   "duration": 4.622305,
   "end_time": "2020-11-08T22:44:21.966659",
   "environment_variables": {},
   "exception": null,
   "input_path": "__notebook__.ipynb",
   "output_path": "__notebook__.ipynb",
   "parameters": {},
   "start_time": "2020-11-08T22:44:17.344354",
   "version": "2.1.0"
  }
 },
 "nbformat": 4,
 "nbformat_minor": 4
}
