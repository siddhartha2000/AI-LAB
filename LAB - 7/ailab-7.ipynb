{
 "cells": [
  {
   "cell_type": "code",
   "execution_count": 1,
   "metadata": {
    "_cell_guid": "79c7e3d0-c299-4dcb-8224-4455121ee9b0",
    "_uuid": "d629ff2d2480ee46fbb7e2d37f6b5fab8052498a",
    "execution": {
     "iopub.execute_input": "2020-12-07T04:28:11.812242Z",
     "iopub.status.busy": "2020-12-07T04:28:11.811392Z",
     "iopub.status.idle": "2020-12-07T04:28:11.815147Z",
     "shell.execute_reply": "2020-12-07T04:28:11.814397Z"
    },
    "papermill": {
     "duration": 0.031167,
     "end_time": "2020-12-07T04:28:11.815301",
     "exception": false,
     "start_time": "2020-12-07T04:28:11.784134",
     "status": "completed"
    },
    "tags": []
   },
   "outputs": [],
   "source": [
    "# Global variable kb (knowledge base)\n",
    "kb = []\n",
    "\n",
    "# Reset kb to an empty list\n",
    "def CLEAR():\n",
    "    global kb\n",
    "    kb = []"
   ]
  },
  {
   "cell_type": "code",
   "execution_count": 2,
   "metadata": {
    "execution": {
     "iopub.execute_input": "2020-12-07T04:28:11.859519Z",
     "iopub.status.busy": "2020-12-07T04:28:11.858699Z",
     "iopub.status.idle": "2020-12-07T04:28:11.861750Z",
     "shell.execute_reply": "2020-12-07T04:28:11.862350Z"
    },
    "papermill": {
     "duration": 0.02965,
     "end_time": "2020-12-07T04:28:11.862533",
     "exception": false,
     "start_time": "2020-12-07T04:28:11.832883",
     "status": "completed"
    },
    "tags": []
   },
   "outputs": [],
   "source": [
    "# Insert sentence to the kb\n",
    "def TELL(sentence):\n",
    "    global kb\n",
    "    # If the sentence is a clause, insert directly.\n",
    "    if isClause(sentence):\n",
    "        kb.append(sentence)\n",
    "    # If not, convert to CNF, and then insert clauses one by one.\n",
    "    else:\n",
    "        sentenceCNF = convertCNF(sentence)\n",
    "        if not sentenceCNF:\n",
    "            print(\"Illegal input\")\n",
    "            return\n",
    "        # Insert clauses one by one when there are multiple clauses\n",
    "        if isAndList(sentenceCNF):\n",
    "            for s in sentenceCNF[1:]:\n",
    "                kb.append(s)\n",
    "        else:\n",
    "            kb.append(sentenceCNF)"
   ]
  },
  {
   "cell_type": "code",
   "execution_count": 3,
   "metadata": {
    "execution": {
     "iopub.execute_input": "2020-12-07T04:28:11.915706Z",
     "iopub.status.busy": "2020-12-07T04:28:11.914845Z",
     "iopub.status.idle": "2020-12-07T04:28:11.918651Z",
     "shell.execute_reply": "2020-12-07T04:28:11.917927Z"
    },
    "papermill": {
     "duration": 0.038822,
     "end_time": "2020-12-07T04:28:11.918795",
     "exception": false,
     "start_time": "2020-12-07T04:28:11.879973",
     "status": "completed"
    },
    "tags": []
   },
   "outputs": [],
   "source": [
    "# 'ASK' the kb whether a sentence is True or not\n",
    "def ASK(sentence):\n",
    "    global kb\n",
    "\n",
    "    # Negate the sentence, and convert it to CNF accordingly.\n",
    "    if isClause(sentence):\n",
    "        neg = negation(sentence)\n",
    "    else:\n",
    "        sentenceCNF = convertCNF(sentence)\n",
    "        if not sentenceCNF:\n",
    "            print(\"Illegal input\")\n",
    "            return\n",
    "        neg = convertCNF(negation(sentenceCNF))\n",
    "\n",
    "    # Insert individual clauses that we need to ask to ask_list.\n",
    "    ask_list = []\n",
    "    if isAndList(neg):\n",
    "        for n in neg[1:]:\n",
    "            nCNF = makeCNF(n)\n",
    "            if type(nCNF).__name__ == 'list':\n",
    "                ask_list.insert(0, nCNF)\n",
    "            else:\n",
    "                ask_list.insert(0, nCNF)\n",
    "    else:\n",
    "        ask_list = [neg]\n",
    "# Create a new list combining the asked sentence and kb.\n",
    "    # Resolution will happen between the items in the list.\n",
    "    clauses = ask_list + kb[:]\n",
    "\n",
    "    # Recursivly conduct resoltion between items in the clauses list\n",
    "    # until it produces an empty list or there's no more pregress.\n",
    "    while True:\n",
    "        new_clauses = []\n",
    "        for c1 in clauses:\n",
    "            for c2 in clauses:\n",
    "                if c1 is not c2:\n",
    "                    resolved = resolve(c1, c2)\n",
    "                    if resolved == False:\n",
    "                        continue\n",
    "                    if resolved == []:\n",
    "                        return True\n",
    "                    new_clauses.append(resolved)\n",
    "\n",
    "        if len(new_clauses) == 0:\n",
    "            return False\n",
    "\n",
    "        new_in_clauses = True\n",
    "        for n in new_clauses:\n",
    "            if n not in clauses:\n",
    "                new_in_clauses = False\n",
    "                clauses.append(n)\n",
    "\n",
    "        if new_in_clauses:\n",
    "            return False\n",
    "    return False"
   ]
  },
  {
   "cell_type": "code",
   "execution_count": 4,
   "metadata": {
    "execution": {
     "iopub.execute_input": "2020-12-07T04:28:11.968339Z",
     "iopub.status.busy": "2020-12-07T04:28:11.963106Z",
     "iopub.status.idle": "2020-12-07T04:28:11.974050Z",
     "shell.execute_reply": "2020-12-07T04:28:11.973269Z"
    },
    "papermill": {
     "duration": 0.037979,
     "end_time": "2020-12-07T04:28:11.974175",
     "exception": false,
     "start_time": "2020-12-07T04:28:11.936196",
     "status": "completed"
    },
    "tags": []
   },
   "outputs": [],
   "source": [
    "# Conduct resolution on two CNF clauses.\n",
    "def resolve(arg_one, arg_two):\n",
    "    resolved = False\n",
    "\n",
    "    s1 = make_sentence(arg_one)\n",
    "    s2 = make_sentence(arg_two)\n",
    "\n",
    "    resolve_s1 = None\n",
    "    resolve_s2 = None\n",
    "\n",
    "    # Two for loops that iterate through the two clauses.\n",
    "    for i in s1:\n",
    "        if isNotList(i):\n",
    "            a1 = i[1]\n",
    "            a1_not = True\n",
    "        else:\n",
    "            a1 = i\n",
    "            a1_not = False\n",
    "\n",
    "        for j in s2:\n",
    "            if isNotList(j):\n",
    "                a2 = j[1]\n",
    "                a2_not = True\n",
    "            else:\n",
    "                a2 = j\n",
    "                a2_not = False\n",
    "\n",
    "            # cancel out two literals such as 'a' $ ['not', 'a']\n",
    "            if a1 == a2:\n",
    "                if a1_not != a2_not:\n",
    "                    # Return False if resolution already happend\n",
    "                    # but contradiction still exists.\n",
    "                    if resolved:\n",
    "                        return False\n",
    "                    else:\n",
    "                        resolved = True\n",
    "                        resolve_s1 = i\n",
    "                        resolve_s2 = j\n",
    "                        break\n",
    "                    # Return False if not resolution happened\n",
    "    if not resolved:\n",
    "        return False\n",
    "\n",
    "    # Remove the literals that are canceled\n",
    "    s1.remove(resolve_s1)\n",
    "    s2.remove(resolve_s2)\n",
    "\n",
    "    # # Remove duplicates\n",
    "    result = clear_duplicate(s1 + s2)\n",
    "\n",
    "    # Format the result.\n",
    "    if len(result) == 1:\n",
    "        return result[0]\n",
    "    elif len(result) > 1:\n",
    "        result.insert(0, 'or')\n",
    "\n",
    "    return result"
   ]
  },
  {
   "cell_type": "code",
   "execution_count": 5,
   "metadata": {
    "execution": {
     "iopub.execute_input": "2020-12-07T04:28:12.016465Z",
     "iopub.status.busy": "2020-12-07T04:28:12.015407Z",
     "iopub.status.idle": "2020-12-07T04:28:12.018770Z",
     "shell.execute_reply": "2020-12-07T04:28:12.018027Z"
    },
    "papermill": {
     "duration": 0.027259,
     "end_time": "2020-12-07T04:28:12.018908",
     "exception": false,
     "start_time": "2020-12-07T04:28:11.991649",
     "status": "completed"
    },
    "tags": []
   },
   "outputs": [],
   "source": [
    "# Prepare sentences for resolution.\n",
    "def make_sentence(arg):\n",
    "    if isLiteral(arg) or isNotList(arg):\n",
    "        return [arg]\n",
    "    if isOrList(arg):\n",
    "        return clear_duplicate(arg[1:])\n",
    "    return"
   ]
  },
  {
   "cell_type": "code",
   "execution_count": 6,
   "metadata": {
    "execution": {
     "iopub.execute_input": "2020-12-07T04:28:12.063935Z",
     "iopub.status.busy": "2020-12-07T04:28:12.062921Z",
     "iopub.status.idle": "2020-12-07T04:28:12.065784Z",
     "shell.execute_reply": "2020-12-07T04:28:12.066333Z"
    },
    "papermill": {
     "duration": 0.02919,
     "end_time": "2020-12-07T04:28:12.066526",
     "exception": false,
     "start_time": "2020-12-07T04:28:12.037336",
     "status": "completed"
    },
    "tags": []
   },
   "outputs": [],
   "source": [
    "# Clear out duplicates in a sentence.\n",
    "def clear_duplicate(arg):\n",
    "    result = []\n",
    "    for i in range(0, len(arg)):\n",
    "        if arg[i] not in arg[i+1:]:\n",
    "            result.append(arg[i])\n",
    "    return result"
   ]
  },
  {
   "cell_type": "code",
   "execution_count": 7,
   "metadata": {
    "execution": {
     "iopub.execute_input": "2020-12-07T04:28:12.111593Z",
     "iopub.status.busy": "2020-12-07T04:28:12.110803Z",
     "iopub.status.idle": "2020-12-07T04:28:12.114410Z",
     "shell.execute_reply": "2020-12-07T04:28:12.113697Z"
    },
    "papermill": {
     "duration": 0.03016,
     "end_time": "2020-12-07T04:28:12.114543",
     "exception": false,
     "start_time": "2020-12-07T04:28:12.084383",
     "status": "completed"
    },
    "tags": []
   },
   "outputs": [],
   "source": [
    "# Check whether a sentence is a legal CNF clause.\n",
    "def isClause(sentence):\n",
    "    if isLiteral(sentence):\n",
    "        return True\n",
    "    if isNotList(sentence):\n",
    "        if isLiteral(sentence[1]):\n",
    "            return True\n",
    "        else:\n",
    "            return False\n",
    "    if isOrList(sentence):\n",
    "        for i in range(1, len(sentence)):\n",
    "            if len(sentence[i]) > 2:\n",
    "                return False\n",
    "            elif not isClause(sentence[i]):\n",
    "                return False\n",
    "        return True\n",
    "    return False"
   ]
  },
  {
   "cell_type": "code",
   "execution_count": 8,
   "metadata": {
    "execution": {
     "iopub.execute_input": "2020-12-07T04:28:12.159438Z",
     "iopub.status.busy": "2020-12-07T04:28:12.158443Z",
     "iopub.status.idle": "2020-12-07T04:28:12.162298Z",
     "shell.execute_reply": "2020-12-07T04:28:12.161638Z"
    },
    "papermill": {
     "duration": 0.029444,
     "end_time": "2020-12-07T04:28:12.162439",
     "exception": false,
     "start_time": "2020-12-07T04:28:12.132995",
     "status": "completed"
    },
    "tags": []
   },
   "outputs": [],
   "source": [
    "# Check if a sentence is a legal CNF.\n",
    "def isCNF(sentence):\n",
    "    if isClause(sentence):\n",
    "        return True\n",
    "    elif isAndList(sentence):\n",
    "        for s in sentence[1:]:\n",
    "            if not isClause(s):\n",
    "                return False\n",
    "        return True\n",
    "    return False\n"
   ]
  },
  {
   "cell_type": "code",
   "execution_count": 9,
   "metadata": {
    "execution": {
     "iopub.execute_input": "2020-12-07T04:28:12.212506Z",
     "iopub.status.busy": "2020-12-07T04:28:12.211406Z",
     "iopub.status.idle": "2020-12-07T04:28:12.215593Z",
     "shell.execute_reply": "2020-12-07T04:28:12.214748Z"
    },
    "papermill": {
     "duration": 0.034866,
     "end_time": "2020-12-07T04:28:12.215745",
     "exception": false,
     "start_time": "2020-12-07T04:28:12.180879",
     "status": "completed"
    },
    "tags": []
   },
   "outputs": [],
   "source": [
    "# Negate a sentence.\n",
    "def negation(sentence):\n",
    "    if isLiteral(sentence):\n",
    "        return ['not', sentence]\n",
    "    if isNotList(sentence):\n",
    "        return sentence[1]\n",
    "\n",
    "    # DeMorgan:\n",
    "    if isAndList(sentence):\n",
    "        result = ['or']\n",
    "        for i in sentence[1:]:\n",
    "            if isNotList(sentence):\n",
    "                result.append(i[1])\n",
    "            else:\n",
    "                result.append(['not', sentence])\n",
    "        return result\n",
    "    if isOrList(sentence):\n",
    "        result = ['and']\n",
    "        for i in sentence[:]:\n",
    "            if isNotList(sentence):\n",
    "                result.append(i[1])\n",
    "            else:\n",
    "                result.append(['not', i])\n",
    "        return result\n",
    "    return None"
   ]
  },
  {
   "cell_type": "code",
   "execution_count": 10,
   "metadata": {
    "execution": {
     "iopub.execute_input": "2020-12-07T04:28:12.259690Z",
     "iopub.status.busy": "2020-12-07T04:28:12.258886Z",
     "iopub.status.idle": "2020-12-07T04:28:12.262962Z",
     "shell.execute_reply": "2020-12-07T04:28:12.262250Z"
    },
    "papermill": {
     "duration": 0.028833,
     "end_time": "2020-12-07T04:28:12.263109",
     "exception": false,
     "start_time": "2020-12-07T04:28:12.234276",
     "status": "completed"
    },
    "tags": []
   },
   "outputs": [],
   "source": [
    "\n",
    "# Convert a sentence into CNF.\n",
    "def convertCNF(sentence):\n",
    "    while not isCNF(sentence):\n",
    "        if sentence is None:\n",
    "            return None\n",
    "        sentence = makeCNF(sentence)\n",
    "    return sentence"
   ]
  },
  {
   "cell_type": "code",
   "execution_count": 11,
   "metadata": {
    "execution": {
     "iopub.execute_input": "2020-12-07T04:28:12.315179Z",
     "iopub.status.busy": "2020-12-07T04:28:12.304251Z",
     "iopub.status.idle": "2020-12-07T04:28:12.335797Z",
     "shell.execute_reply": "2020-12-07T04:28:12.335095Z"
    },
    "papermill": {
     "duration": 0.054137,
     "end_time": "2020-12-07T04:28:12.335944",
     "exception": false,
     "start_time": "2020-12-07T04:28:12.281807",
     "status": "completed"
    },
    "tags": []
   },
   "outputs": [],
   "source": [
    "# Help make a sentence into CNF.\n",
    "def makeCNF(sentence):\n",
    "    if isLiteral(sentence):\n",
    "        return sentence\n",
    "\n",
    "    if (type(sentence).__name__ == 'list'):\n",
    "        operand = sentence[0]\n",
    "        if isNotList(sentence):\n",
    "            if isLiteral(sentence[1]):\n",
    "                return sentence\n",
    "            cnf = makeCNF(sentence[1])\n",
    "            if cnf[0] == 'not':\n",
    "                return makeCNF(cnf[1])\n",
    "            if cnf[0] == 'or':\n",
    "                result = ['and']\n",
    "                for i in range(1, len(cnf)):\n",
    "                    result.append(makeCNF(['not', cnf[i]]))\n",
    "                return result\n",
    "            if cnf[0] == 'and':\n",
    "                result = ['or']\n",
    "                for i in range(1, len(cnf)):\n",
    "                    result.append(makeCNF(['not', cnf[i]]))\n",
    "                return result\n",
    "            return \"False: not\"\n",
    "\n",
    "        # Implication Elimination:\n",
    "        if operand == 'implies' and len(sentence) == 3:\n",
    "            return makeCNF(['or', ['not', makeCNF(sentence[1])], makeCNF(sentence[2])])\n",
    "            # Biconditional Elimination:\n",
    "        if operand == 'biconditional' and len(sentence) == 3:\n",
    "            s1 = makeCNF(['implies', sentence[1], sentence[2]])\n",
    "            s2 = makeCNF(['implies', sentence[2], sentence[1]])\n",
    "            return makeCNF(['and', s1, s2])\n",
    "\n",
    "        if isAndList(sentence):\n",
    "            result = ['and']\n",
    "            for i in range(1, len(sentence)):\n",
    "                cnf = makeCNF(sentence[i])\n",
    "                # Distributivity:\n",
    "                if isAndList(cnf):\n",
    "                    for i in range(1, len(cnf)):\n",
    "                        result.append(makeCNF(cnf[i]))\n",
    "                    continue\n",
    "                result.append(makeCNF(cnf))\n",
    "            return result\n",
    "\n",
    "        if isOrList(sentence):\n",
    "            result1 = ['or']\n",
    "            for i in range(1, len(sentence)):\n",
    "                cnf = makeCNF(sentence[i])\n",
    "                # Distributivity:\n",
    "                if isOrList(cnf):\n",
    "                    for i in range(1, len(cnf)):\n",
    "                        result1.append(makeCNF(cnf[i]))\n",
    "                    continue\n",
    "                result1.append(makeCNF(cnf))\n",
    "                # Associativity:\n",
    "            while True:\n",
    "                result2 = ['and']\n",
    "                and_clause = None\n",
    "                for r in result1:\n",
    "                    if isAndList(r):\n",
    "                        and_clause = r\n",
    "                        break\n",
    "\n",
    "                # Finish when there's no more 'and' lists\n",
    "                # inside of 'or' lists\n",
    "                if not and_clause:\n",
    "                    return result1\n",
    "\n",
    "                result1.remove(and_clause)\n",
    "\n",
    "                for i in range(1, len(and_clause)):\n",
    "                    temp = ['or', and_clause[i]]\n",
    "                    for o in result1[1:]:\n",
    "                        temp.append(makeCNF(o))\n",
    "                    result2.append(makeCNF(temp))\n",
    "                result1 = makeCNF(result2)\n",
    "            return None\n",
    "    return None"
   ]
  },
  {
   "cell_type": "code",
   "execution_count": 12,
   "metadata": {
    "execution": {
     "iopub.execute_input": "2020-12-07T04:28:12.385374Z",
     "iopub.status.busy": "2020-12-07T04:28:12.384370Z",
     "iopub.status.idle": "2020-12-07T04:28:12.387888Z",
     "shell.execute_reply": "2020-12-07T04:28:12.388532Z"
    },
    "papermill": {
     "duration": 0.034251,
     "end_time": "2020-12-07T04:28:12.388746",
     "exception": false,
     "start_time": "2020-12-07T04:28:12.354495",
     "status": "completed"
    },
    "tags": []
   },
   "outputs": [],
   "source": [
    "# Below are 4 functions that check the type of a variable\n",
    "def isLiteral(item):\n",
    "    if type(item).__name__ == 'str':\n",
    "        return True\n",
    "    return False\n",
    "\n",
    "\n",
    "def isNotList(item):\n",
    "    if type(item).__name__ == 'list':\n",
    "        if len(item) == 2:\n",
    "            if item[0] == 'not':\n",
    "                return True\n",
    "    return False\n",
    "\n",
    "\n",
    "def isAndList(item):\n",
    "    if type(item).__name__ == 'list':\n",
    "        if len(item) > 2:\n",
    "            if item[0] == 'and':\n",
    "                return True\n",
    "    return False\n",
    "\n",
    "\n",
    "def isOrList(item):\n",
    "    if type(item).__name__ == 'list':\n",
    "        if len(item) > 2:\n",
    "            if item[0] == 'or':\n",
    "                return True\n",
    "    return False"
   ]
  },
  {
   "cell_type": "code",
   "execution_count": 13,
   "metadata": {
    "execution": {
     "iopub.execute_input": "2020-12-07T04:28:12.432781Z",
     "iopub.status.busy": "2020-12-07T04:28:12.431923Z",
     "iopub.status.idle": "2020-12-07T04:28:12.434081Z",
     "shell.execute_reply": "2020-12-07T04:28:12.434807Z"
    },
    "papermill": {
     "duration": 0.02719,
     "end_time": "2020-12-07T04:28:12.435001",
     "exception": false,
     "start_time": "2020-12-07T04:28:12.407811",
     "status": "completed"
    },
    "tags": []
   },
   "outputs": [],
   "source": [
    "CLEAR()"
   ]
  },
  {
   "cell_type": "code",
   "execution_count": 14,
   "metadata": {
    "execution": {
     "iopub.execute_input": "2020-12-07T04:28:12.504049Z",
     "iopub.status.busy": "2020-12-07T04:28:12.488459Z",
     "iopub.status.idle": "2020-12-07T04:28:12.914157Z",
     "shell.execute_reply": "2020-12-07T04:28:12.913396Z"
    },
    "papermill": {
     "duration": 0.45935,
     "end_time": "2020-12-07T04:28:12.914286",
     "exception": false,
     "start_time": "2020-12-07T04:28:12.454936",
     "status": "completed"
    },
    "tags": []
   },
   "outputs": [
    {
     "data": {
      "text/plain": [
       "True"
      ]
     },
     "execution_count": 14,
     "metadata": {},
     "output_type": "execute_result"
    }
   ],
   "source": [
    "#Test1\n",
    "TELL(['implies', 'p', 'q'])\n",
    "TELL(['implies', 'r', 's'])\n",
    "ASK(['implies',['or','p','r'], ['or', 'q', 's']])"
   ]
  },
  {
   "cell_type": "code",
   "execution_count": 15,
   "metadata": {
    "execution": {
     "iopub.execute_input": "2020-12-07T04:28:12.960079Z",
     "iopub.status.busy": "2020-12-07T04:28:12.959044Z",
     "iopub.status.idle": "2020-12-07T04:28:12.962600Z",
     "shell.execute_reply": "2020-12-07T04:28:12.961863Z"
    },
    "papermill": {
     "duration": 0.027613,
     "end_time": "2020-12-07T04:28:12.962748",
     "exception": false,
     "start_time": "2020-12-07T04:28:12.935135",
     "status": "completed"
    },
    "tags": []
   },
   "outputs": [],
   "source": [
    "CLEAR()"
   ]
  },
  {
   "cell_type": "code",
   "execution_count": 16,
   "metadata": {
    "execution": {
     "iopub.execute_input": "2020-12-07T04:28:13.013393Z",
     "iopub.status.busy": "2020-12-07T04:28:13.012346Z",
     "iopub.status.idle": "2020-12-07T04:28:13.016769Z",
     "shell.execute_reply": "2020-12-07T04:28:13.017294Z"
    },
    "papermill": {
     "duration": 0.034533,
     "end_time": "2020-12-07T04:28:13.017453",
     "exception": false,
     "start_time": "2020-12-07T04:28:12.982920",
     "status": "completed"
    },
    "tags": []
   },
   "outputs": [
    {
     "data": {
      "text/plain": [
       "True"
      ]
     },
     "execution_count": 16,
     "metadata": {},
     "output_type": "execute_result"
    }
   ],
   "source": [
    "#Test2\n",
    "TELL('p')\n",
    "TELL(['implies',['and','p','q'],'r'])\n",
    "TELL(['implies',['or','s','t'],'q'])\n",
    "TELL('t')\n",
    "ASK('r')"
   ]
  },
  {
   "cell_type": "code",
   "execution_count": 17,
   "metadata": {
    "execution": {
     "iopub.execute_input": "2020-12-07T04:28:13.062873Z",
     "iopub.status.busy": "2020-12-07T04:28:13.061979Z",
     "iopub.status.idle": "2020-12-07T04:28:13.065158Z",
     "shell.execute_reply": "2020-12-07T04:28:13.064517Z"
    },
    "papermill": {
     "duration": 0.027778,
     "end_time": "2020-12-07T04:28:13.065280",
     "exception": false,
     "start_time": "2020-12-07T04:28:13.037502",
     "status": "completed"
    },
    "tags": []
   },
   "outputs": [],
   "source": [
    "CLEAR()"
   ]
  },
  {
   "cell_type": "code",
   "execution_count": 18,
   "metadata": {
    "execution": {
     "iopub.execute_input": "2020-12-07T04:28:13.113292Z",
     "iopub.status.busy": "2020-12-07T04:28:13.112365Z",
     "iopub.status.idle": "2020-12-07T04:28:13.116690Z",
     "shell.execute_reply": "2020-12-07T04:28:13.116084Z"
    },
    "papermill": {
     "duration": 0.03143,
     "end_time": "2020-12-07T04:28:13.116824",
     "exception": false,
     "start_time": "2020-12-07T04:28:13.085394",
     "status": "completed"
    },
    "tags": []
   },
   "outputs": [
    {
     "data": {
      "text/plain": [
       "True"
      ]
     },
     "execution_count": 18,
     "metadata": {},
     "output_type": "execute_result"
    }
   ],
   "source": [
    "#Test3\n",
    "TELL('a')\n",
    "TELL('b')\n",
    "TELL('c')\n",
    "TELL('d')\n",
    "ASK(['or', 'a', 'b', 'c', 'd'])"
   ]
  },
  {
   "cell_type": "code",
   "execution_count": 19,
   "metadata": {
    "execution": {
     "iopub.execute_input": "2020-12-07T04:28:13.168890Z",
     "iopub.status.busy": "2020-12-07T04:28:13.168150Z",
     "iopub.status.idle": "2020-12-07T04:28:13.171309Z",
     "shell.execute_reply": "2020-12-07T04:28:13.170599Z"
    },
    "papermill": {
     "duration": 0.032584,
     "end_time": "2020-12-07T04:28:13.171427",
     "exception": false,
     "start_time": "2020-12-07T04:28:13.138843",
     "status": "completed"
    },
    "tags": []
   },
   "outputs": [],
   "source": [
    "CLEAR()"
   ]
  },
  {
   "cell_type": "code",
   "execution_count": 20,
   "metadata": {
    "execution": {
     "iopub.execute_input": "2020-12-07T04:28:13.221878Z",
     "iopub.status.busy": "2020-12-07T04:28:13.220892Z",
     "iopub.status.idle": "2020-12-07T04:28:13.225413Z",
     "shell.execute_reply": "2020-12-07T04:28:13.224703Z"
    },
    "papermill": {
     "duration": 0.032903,
     "end_time": "2020-12-07T04:28:13.225532",
     "exception": false,
     "start_time": "2020-12-07T04:28:13.192629",
     "status": "completed"
    },
    "tags": []
   },
   "outputs": [
    {
     "data": {
      "text/plain": [
       "False"
      ]
     },
     "execution_count": 20,
     "metadata": {},
     "output_type": "execute_result"
    }
   ],
   "source": [
    "#Test4\n",
    "TELL('a')\n",
    "TELL('b')\n",
    "TELL(['or', ['not', 'a'], 'b'])\n",
    "TELL(['or', 'c', 'd'])\n",
    "TELL('d')\n",
    "ASK('c')"
   ]
  }
 ],
 "metadata": {
  "kernelspec": {
   "display_name": "Python 3",
   "language": "python",
   "name": "python3"
  },
  "language_info": {
   "codemirror_mode": {
    "name": "ipython",
    "version": 3
   },
   "file_extension": ".py",
   "mimetype": "text/x-python",
   "name": "python",
   "nbconvert_exporter": "python",
   "pygments_lexer": "ipython3",
   "version": "3.7.6"
  },
  "papermill": {
   "duration": 6.892677,
   "end_time": "2020-12-07T04:28:13.354978",
   "environment_variables": {},
   "exception": null,
   "input_path": "__notebook__.ipynb",
   "output_path": "__notebook__.ipynb",
   "parameters": {},
   "start_time": "2020-12-07T04:28:06.462301",
   "version": "2.1.0"
  }
 },
 "nbformat": 4,
 "nbformat_minor": 4
}
