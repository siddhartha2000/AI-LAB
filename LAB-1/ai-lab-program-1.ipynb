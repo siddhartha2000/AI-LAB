{
 "cells": [
  {
   "cell_type": "markdown",
   "metadata": {
    "papermill": {
     "duration": 0.012302,
     "end_time": "2020-10-12T04:03:12.646534",
     "exception": false,
     "start_time": "2020-10-12T04:03:12.634232",
     "status": "completed"
    },
    "tags": []
   },
   "source": [
    "# Tic Tac Toe\n",
    "BMS College of Engineering - Dr Kavitha Sooda <br />\n",
    "BMS College of Engineering - Dr Nagarathna N <br />\n",
    "BMS College of Engineering - Prof G R Asha  <br />\n",
    "##### Class 5C"
   ]
  },
  {
   "cell_type": "code",
   "execution_count": 1,
   "metadata": {
    "execution": {
     "iopub.execute_input": "2020-10-12T04:03:12.674199Z",
     "iopub.status.busy": "2020-10-12T04:03:12.673509Z",
     "iopub.status.idle": "2020-10-12T04:03:12.676389Z",
     "shell.execute_reply": "2020-10-12T04:03:12.676977Z"
    },
    "papermill": {
     "duration": 0.019263,
     "end_time": "2020-10-12T04:03:12.677150",
     "exception": false,
     "start_time": "2020-10-12T04:03:12.657887",
     "status": "completed"
    },
    "tags": []
   },
   "outputs": [],
   "source": [
    "# Create a 3x3 tic tac toe board of \"\" strings for each value\n",
    "board = [' '] * 9"
   ]
  },
  {
   "cell_type": "code",
   "execution_count": 2,
   "metadata": {
    "execution": {
     "iopub.execute_input": "2020-10-12T04:03:12.709737Z",
     "iopub.status.busy": "2020-10-12T04:03:12.708961Z",
     "iopub.status.idle": "2020-10-12T04:03:12.714234Z",
     "shell.execute_reply": "2020-10-12T04:03:12.713551Z"
    },
    "papermill": {
     "duration": 0.025564,
     "end_time": "2020-10-12T04:03:12.714352",
     "exception": false,
     "start_time": "2020-10-12T04:03:12.688788",
     "status": "completed"
    },
    "tags": []
   },
   "outputs": [
    {
     "name": "stdout",
     "output_type": "stream",
     "text": [
      "   |   |\n",
      "   |   |  \n",
      "   |   |\n",
      "-----------\n",
      "   |   |\n",
      "   |   |  \n",
      "   |   |\n",
      "-----------\n",
      "   |   |\n",
      "   |   |  \n",
      "   |   |\n"
     ]
    }
   ],
   "source": [
    "# Create a function to display your board\n",
    "def display_board(board):\n",
    "    print(\"   |   |\")\n",
    "    print(\" \" + board[0] + \" | \" + board[1]+ \" | \" +board[2])\n",
    "    print(\"   |   |\")\n",
    "    print(\"-----------\")\n",
    "    print(\"   |   |\")\n",
    "    print(\" \" + board[3] + \" | \" + board[4]+ \" | \" +board[5])\n",
    "    print(\"   |   |\")\n",
    "    print(\"-----------\")\n",
    "    print(\"   |   |\")  \n",
    "    print(\" \" + board[6] + \" | \" + board[7]+ \" | \" +board[8])\n",
    "    print(\"   |   |\")\n",
    "display_board(board)"
   ]
  },
  {
   "cell_type": "code",
   "execution_count": 3,
   "metadata": {
    "execution": {
     "iopub.execute_input": "2020-10-12T04:03:12.755723Z",
     "iopub.status.busy": "2020-10-12T04:03:12.754757Z",
     "iopub.status.idle": "2020-10-12T04:03:12.759304Z",
     "shell.execute_reply": "2020-10-12T04:03:12.758594Z"
    },
    "papermill": {
     "duration": 0.032455,
     "end_time": "2020-10-12T04:03:12.759439",
     "exception": false,
     "start_time": "2020-10-12T04:03:12.726984",
     "status": "completed"
    },
    "tags": []
   },
   "outputs": [
    {
     "data": {
      "text/plain": [
       "False"
      ]
     },
     "execution_count": 3,
     "metadata": {},
     "output_type": "execute_result"
    }
   ],
   "source": [
    "#Create a function to check if anyone won, Use marks \"X\" or \"O\"\n",
    "def check_win(bo, player_mark):\n",
    "    ## If the player has won then there must be 3 consecutive Player values\n",
    "    return ((bo[6] == player_mark and bo[7] == player_mark and bo[8] == player_mark) or \n",
    "            (bo[3] == player_mark and bo[4] == player_mark and bo[5] == player_mark) or \n",
    "            (bo[0] == player_mark and bo[1] == player_mark and bo[2] == player_mark) or \n",
    "            (bo[6] == player_mark and bo[3] == player_mark and bo[0] == player_mark) or \n",
    "            (bo[7] == player_mark and bo[4] == player_mark and bo[1] == player_mark) or \n",
    "            (bo[8] == player_mark and bo[5] == player_mark and bo[2] == player_mark) or \n",
    "            (bo[6] == player_mark and bo[4] == player_mark and bo[2] == player_mark) or \n",
    "            (bo[8] == player_mark and bo[4] == player_mark and bo[0] == player_mark)) \n",
    "\n",
    "check_win(board, 'X')"
   ]
  },
  {
   "cell_type": "code",
   "execution_count": 4,
   "metadata": {
    "execution": {
     "iopub.execute_input": "2020-10-12T04:03:12.789548Z",
     "iopub.status.busy": "2020-10-12T04:03:12.788487Z",
     "iopub.status.idle": "2020-10-12T04:03:12.791809Z",
     "shell.execute_reply": "2020-10-12T04:03:12.791222Z"
    },
    "papermill": {
     "duration": 0.020058,
     "end_time": "2020-10-12T04:03:12.791946",
     "exception": false,
     "start_time": "2020-10-12T04:03:12.771888",
     "status": "completed"
    },
    "tags": []
   },
   "outputs": [],
   "source": [
    "# Create a function to check its a Draw\n",
    "def check_draw(self):\n",
    "    return ' ' not in board"
   ]
  },
  {
   "cell_type": "markdown",
   "metadata": {
    "papermill": {
     "duration": 0.012205,
     "end_time": "2020-10-12T04:03:12.816876",
     "exception": false,
     "start_time": "2020-10-12T04:03:12.804671",
     "status": "completed"
    },
    "tags": []
   },
   "source": [
    "# The AI agent\n",
    "## Create an agent that beats you at Tic Tac Toe\n",
    "- Create a stategy to win the game"
   ]
  },
  {
   "cell_type": "code",
   "execution_count": 5,
   "metadata": {
    "execution": {
     "iopub.execute_input": "2020-10-12T04:03:12.849267Z",
     "iopub.status.busy": "2020-10-12T04:03:12.848594Z",
     "iopub.status.idle": "2020-10-12T04:03:12.851452Z",
     "shell.execute_reply": "2020-10-12T04:03:12.850736Z"
    },
    "papermill": {
     "duration": 0.022024,
     "end_time": "2020-10-12T04:03:12.851572",
     "exception": false,
     "start_time": "2020-10-12T04:03:12.829548",
     "status": "completed"
    },
    "tags": []
   },
   "outputs": [],
   "source": [
    "# Create a Function that makes a copy of the board\n",
    "def board_copy(board):\n",
    "    cpyboard = []\n",
    "    for i in board:\n",
    "        cpyboard.append(i)\n",
    "    return cpyboard"
   ]
  },
  {
   "cell_type": "code",
   "execution_count": 6,
   "metadata": {
    "execution": {
     "iopub.execute_input": "2020-10-12T04:03:12.881120Z",
     "iopub.status.busy": "2020-10-12T04:03:12.880235Z",
     "iopub.status.idle": "2020-10-12T04:03:12.883739Z",
     "shell.execute_reply": "2020-10-12T04:03:12.883034Z"
    },
    "papermill": {
     "duration": 0.019725,
     "end_time": "2020-10-12T04:03:12.883852",
     "exception": false,
     "start_time": "2020-10-12T04:03:12.864127",
     "status": "completed"
    },
    "tags": []
   },
   "outputs": [],
   "source": [
    "#Immediate move checker\n",
    "#def test_win_move(move, player_mark, board):"
   ]
  },
  {
   "cell_type": "code",
   "execution_count": 7,
   "metadata": {
    "execution": {
     "iopub.execute_input": "2020-10-12T04:03:12.922742Z",
     "iopub.status.busy": "2020-10-12T04:03:12.921963Z",
     "iopub.status.idle": "2020-10-12T04:03:12.924710Z",
     "shell.execute_reply": "2020-10-12T04:03:12.925230Z"
    },
    "papermill": {
     "duration": 0.027256,
     "end_time": "2020-10-12T04:03:12.925386",
     "exception": false,
     "start_time": "2020-10-12T04:03:12.898130",
     "status": "completed"
    },
    "tags": []
   },
   "outputs": [],
   "source": [
    "#Strategy if others fail\n",
    "def selectRandom(li):\n",
    "    import random\n",
    "    ln = len(li)\n",
    "    r = random.randrange(0,ln)\n",
    "    return li[r]\n",
    "\n",
    "def win_strategy(possibleMoves):\n",
    "    move = 0\n",
    "    cornersOpen = []\n",
    "    for i in possibleMoves:\n",
    "        if i in [1,3,7,9]:\n",
    "            cornersOpen.append(i)\n",
    "    if len(cornersOpen) > 0:\n",
    "        move = selectRandom(cornersOpen)\n",
    "        return move\n",
    "    \n",
    "    if 5 in possibleMoves: \n",
    "        move  = 5\n",
    "        return move\n",
    "    \n",
    "    edgesOpen = []\n",
    "    for i in possibleMoves:\n",
    "        if i in [2,4,6,8]:\n",
    "            edgesOpen.append(i)\n",
    "    if len(edgesOpen) > 0:\n",
    "        move = selectRandom(edgesOpen)\n",
    "        \n",
    "    return move"
   ]
  },
  {
   "cell_type": "code",
   "execution_count": 8,
   "metadata": {
    "execution": {
     "iopub.execute_input": "2020-10-12T04:03:12.960769Z",
     "iopub.status.busy": "2020-10-12T04:03:12.959758Z",
     "iopub.status.idle": "2020-10-12T04:03:12.962864Z",
     "shell.execute_reply": "2020-10-12T04:03:12.962260Z"
    },
    "papermill": {
     "duration": 0.023974,
     "end_time": "2020-10-12T04:03:12.962992",
     "exception": false,
     "start_time": "2020-10-12T04:03:12.939018",
     "status": "completed"
    },
    "tags": []
   },
   "outputs": [],
   "source": [
    "# Agents move\n",
    "def get_agent_move(board):\n",
    "    # Return agent move with your strategy\n",
    "    possibleMoves = [x for x,letter in enumerate(board) if letter == ' ']\n",
    "    for L in ['O','X']:\n",
    "        for i in possibleMoves:                  \n",
    "            cpyboard = board_copy(board)\n",
    "            cpyboard[i] = L                    #test_win_move\n",
    "            if check_win(cpyboard,L):\n",
    "                move = i\n",
    "                return move   \n",
    "    move = win_strategy(possibleMoves)\n",
    "    return move"
   ]
  },
  {
   "cell_type": "code",
   "execution_count": 9,
   "metadata": {
    "execution": {
     "iopub.execute_input": "2020-10-12T04:03:13.006080Z",
     "iopub.status.busy": "2020-10-12T04:03:13.005299Z",
     "iopub.status.idle": "2020-10-12T04:03:13.008986Z",
     "shell.execute_reply": "2020-10-12T04:03:13.008269Z"
    },
    "papermill": {
     "duration": 0.032672,
     "end_time": "2020-10-12T04:03:13.009108",
     "exception": false,
     "start_time": "2020-10-12T04:03:12.976436",
     "status": "completed"
    },
    "tags": []
   },
   "outputs": [],
   "source": [
    "# Assemble the game\n",
    "def insertLetter(letter,pos):\n",
    "    board[pos]= letter\n",
    "        \n",
    "def spaceIsFree(pos):\n",
    "    return board[pos]== ' '\n",
    "    \n",
    "def playerMove():\n",
    "    run = True\n",
    "    while run:\n",
    "        move = input(\" Please select a position to place a 'X' (1-9) : \")\n",
    "        try:\n",
    "            move = int(move)\n",
    "            move = move - 1\n",
    "            if move >= 0 and move < 9:\n",
    "                if spaceIsFree(move):\n",
    "                    run = False \n",
    "                    insertLetter('X',move)\n",
    "                else:\n",
    "                    print(\"Sorry this space is occupied!\")\n",
    "            else:\n",
    "                (\"Please type a number within the range!\")\n",
    "        except:\n",
    "            print(\"Please type a number\")\n",
    "\n",
    "\n",
    "def tictactoe(board):\n",
    "    print(\"Welcome to Tic Tac Toe!!!\")\n",
    "    display_board(board)\n",
    "    \n",
    "    while not(check_draw(board)):\n",
    "        if not(check_win(board, 'O')):\n",
    "            playerMove()\n",
    "            display_board(board)\n",
    "        else:\n",
    "            print('Sorry O\\'s won this time!')\n",
    "            break\n",
    "        \n",
    "        if not(check_win(board, 'X')):\n",
    "            move = get_agent_move(board)\n",
    "            if move == 0:\n",
    "                print(\"Tie game!\")\n",
    "            else:\n",
    "                insertLetter('O',move)\n",
    "                print(\"Computer placed an 'O' in position \",move)\n",
    "                display_board(board)\n",
    "        else:\n",
    "            print('X\\'s won this time! Nice Play!')\n",
    "            break\n",
    "    \n",
    "    if (check_draw(board)):\n",
    "        print(\"Tie game!\")"
   ]
  },
  {
   "cell_type": "code",
   "execution_count": 10,
   "metadata": {
    "execution": {
     "iopub.execute_input": "2020-10-12T04:03:13.042504Z",
     "iopub.status.busy": "2020-10-12T04:03:13.041474Z",
     "iopub.status.idle": "2020-10-12T04:03:13.092984Z",
     "shell.execute_reply": "2020-10-12T04:03:13.092371Z"
    },
    "papermill": {
     "duration": 0.0701,
     "end_time": "2020-10-12T04:03:13.093100",
     "exception": false,
     "start_time": "2020-10-12T04:03:13.023000",
     "status": "completed"
    },
    "tags": []
   },
   "outputs": [
    {
     "name": "stdout",
     "output_type": "stream",
     "text": [
      "Welcome to Tic Tac Toe!!!\n",
      "   |   |\n",
      "   |   |  \n",
      "   |   |\n",
      "-----------\n",
      "   |   |\n",
      "   |   |  \n",
      "   |   |\n",
      "-----------\n",
      "   |   |\n",
      "   |   |  \n",
      "   |   |\n"
     ]
    },
    {
     "ename": "StdinNotImplementedError",
     "evalue": "raw_input was called, but this frontend does not support input requests.",
     "output_type": "error",
     "traceback": [
      "\u001b[0;31m---------------------------------------------------------------------------\u001b[0m",
      "\u001b[0;31mStdinNotImplementedError\u001b[0m                  Traceback (most recent call last)",
      "\u001b[0;32m<ipython-input-10-277459585011>\u001b[0m in \u001b[0;36m<module>\u001b[0;34m\u001b[0m\n\u001b[1;32m      1\u001b[0m \u001b[0;31m# Play!!!\u001b[0m\u001b[0;34m\u001b[0m\u001b[0;34m\u001b[0m\u001b[0;34m\u001b[0m\u001b[0m\n\u001b[0;32m----> 2\u001b[0;31m \u001b[0mtictactoe\u001b[0m\u001b[0;34m(\u001b[0m\u001b[0mboard\u001b[0m\u001b[0;34m)\u001b[0m\u001b[0;34m\u001b[0m\u001b[0;34m\u001b[0m\u001b[0m\n\u001b[0m",
      "\u001b[0;32m<ipython-input-9-4b7afefa69d6>\u001b[0m in \u001b[0;36mtictactoe\u001b[0;34m(board)\u001b[0m\n\u001b[1;32m     31\u001b[0m     \u001b[0;32mwhile\u001b[0m \u001b[0;32mnot\u001b[0m\u001b[0;34m(\u001b[0m\u001b[0mcheck_draw\u001b[0m\u001b[0;34m(\u001b[0m\u001b[0mboard\u001b[0m\u001b[0;34m)\u001b[0m\u001b[0;34m)\u001b[0m\u001b[0;34m:\u001b[0m\u001b[0;34m\u001b[0m\u001b[0;34m\u001b[0m\u001b[0m\n\u001b[1;32m     32\u001b[0m         \u001b[0;32mif\u001b[0m \u001b[0;32mnot\u001b[0m\u001b[0;34m(\u001b[0m\u001b[0mcheck_win\u001b[0m\u001b[0;34m(\u001b[0m\u001b[0mboard\u001b[0m\u001b[0;34m,\u001b[0m \u001b[0;34m'O'\u001b[0m\u001b[0;34m)\u001b[0m\u001b[0;34m)\u001b[0m\u001b[0;34m:\u001b[0m\u001b[0;34m\u001b[0m\u001b[0;34m\u001b[0m\u001b[0m\n\u001b[0;32m---> 33\u001b[0;31m             \u001b[0mplayerMove\u001b[0m\u001b[0;34m(\u001b[0m\u001b[0;34m)\u001b[0m\u001b[0;34m\u001b[0m\u001b[0;34m\u001b[0m\u001b[0m\n\u001b[0m\u001b[1;32m     34\u001b[0m             \u001b[0mdisplay_board\u001b[0m\u001b[0;34m(\u001b[0m\u001b[0mboard\u001b[0m\u001b[0;34m)\u001b[0m\u001b[0;34m\u001b[0m\u001b[0;34m\u001b[0m\u001b[0m\n\u001b[1;32m     35\u001b[0m         \u001b[0;32melse\u001b[0m\u001b[0;34m:\u001b[0m\u001b[0;34m\u001b[0m\u001b[0;34m\u001b[0m\u001b[0m\n",
      "\u001b[0;32m<ipython-input-9-4b7afefa69d6>\u001b[0m in \u001b[0;36mplayerMove\u001b[0;34m()\u001b[0m\n\u001b[1;32m      9\u001b[0m     \u001b[0mrun\u001b[0m \u001b[0;34m=\u001b[0m \u001b[0;32mTrue\u001b[0m\u001b[0;34m\u001b[0m\u001b[0;34m\u001b[0m\u001b[0m\n\u001b[1;32m     10\u001b[0m     \u001b[0;32mwhile\u001b[0m \u001b[0mrun\u001b[0m\u001b[0;34m:\u001b[0m\u001b[0;34m\u001b[0m\u001b[0;34m\u001b[0m\u001b[0m\n\u001b[0;32m---> 11\u001b[0;31m         \u001b[0mmove\u001b[0m \u001b[0;34m=\u001b[0m \u001b[0minput\u001b[0m\u001b[0;34m(\u001b[0m\u001b[0;34m\" Please select a position to place a 'X' (1-9) : \"\u001b[0m\u001b[0;34m)\u001b[0m\u001b[0;34m\u001b[0m\u001b[0;34m\u001b[0m\u001b[0m\n\u001b[0m\u001b[1;32m     12\u001b[0m         \u001b[0;32mtry\u001b[0m\u001b[0;34m:\u001b[0m\u001b[0;34m\u001b[0m\u001b[0;34m\u001b[0m\u001b[0m\n\u001b[1;32m     13\u001b[0m             \u001b[0mmove\u001b[0m \u001b[0;34m=\u001b[0m \u001b[0mint\u001b[0m\u001b[0;34m(\u001b[0m\u001b[0mmove\u001b[0m\u001b[0;34m)\u001b[0m\u001b[0;34m\u001b[0m\u001b[0;34m\u001b[0m\u001b[0m\n",
      "\u001b[0;32m/opt/conda/lib/python3.7/site-packages/ipykernel/kernelbase.py\u001b[0m in \u001b[0;36mraw_input\u001b[0;34m(self, prompt)\u001b[0m\n\u001b[1;32m    853\u001b[0m         \u001b[0;32mif\u001b[0m \u001b[0;32mnot\u001b[0m \u001b[0mself\u001b[0m\u001b[0;34m.\u001b[0m\u001b[0m_allow_stdin\u001b[0m\u001b[0;34m:\u001b[0m\u001b[0;34m\u001b[0m\u001b[0;34m\u001b[0m\u001b[0m\n\u001b[1;32m    854\u001b[0m             raise StdinNotImplementedError(\n\u001b[0;32m--> 855\u001b[0;31m                 \u001b[0;34m\"raw_input was called, but this frontend does not support input requests.\"\u001b[0m\u001b[0;34m\u001b[0m\u001b[0;34m\u001b[0m\u001b[0m\n\u001b[0m\u001b[1;32m    856\u001b[0m             )\n\u001b[1;32m    857\u001b[0m         return self._input_request(str(prompt),\n",
      "\u001b[0;31mStdinNotImplementedError\u001b[0m: raw_input was called, but this frontend does not support input requests."
     ]
    }
   ],
   "source": [
    "# Play!!!\n",
    "tictactoe(board)"
   ]
  },
  {
   "cell_type": "markdown",
   "metadata": {
    "papermill": {
     "duration": 0.014358,
     "end_time": "2020-10-12T04:03:13.121762",
     "exception": false,
     "start_time": "2020-10-12T04:03:13.107404",
     "status": "completed"
    },
    "tags": []
   },
   "source": [
    "# Challenge\n",
    "- Put all these methods into a class called 'Tic_Tac_Toe'"
   ]
  },
  {
   "cell_type": "code",
   "execution_count": 11,
   "metadata": {
    "execution": {
     "iopub.execute_input": "2020-10-12T04:03:13.173785Z",
     "iopub.status.busy": "2020-10-12T04:03:13.172766Z",
     "iopub.status.idle": "2020-10-12T04:03:13.177645Z",
     "shell.execute_reply": "2020-10-12T04:03:13.176989Z"
    },
    "papermill": {
     "duration": 0.041499,
     "end_time": "2020-10-12T04:03:13.177774",
     "exception": false,
     "start_time": "2020-10-12T04:03:13.136275",
     "status": "completed"
    },
    "tags": []
   },
   "outputs": [
    {
     "ename": "SyntaxError",
     "evalue": "invalid syntax (<ipython-input-11-6d626a1c1f5a>, line 54)",
     "output_type": "error",
     "traceback": [
      "\u001b[0;36m  File \u001b[0;32m\"<ipython-input-11-6d626a1c1f5a>\"\u001b[0;36m, line \u001b[0;32m54\u001b[0m\n\u001b[0;31m    else(\"Please type a number within the range!\")\u001b[0m\n\u001b[0m        ^\u001b[0m\n\u001b[0;31mSyntaxError\u001b[0m\u001b[0;31m:\u001b[0m invalid syntax\n"
     ]
    }
   ],
   "source": [
    "    def __init__(self):\n",
    "        board = [' '] * 9\n",
    "    \n",
    "    def insertLetter(letter,pos):\n",
    "        board[pos]= letter\n",
    "        \n",
    "    def spaceIsFree(pos):\n",
    "        return board[pos]== ' '\n",
    "    \n",
    "    def display_board(board):\n",
    "        print(\"   |   |\")\n",
    "        print(\" \" + board[0] + \" | \" + board[1]+ \" | \" +board[2])\n",
    "        print(\"   |   |\")\n",
    "        print(\"-----------\")\n",
    "        print(\"   |   |\")\n",
    "        print(\" \" + board[3] + \" | \" + board[4]+ \" | \" +board[5])\n",
    "        print(\"   |   |\")\n",
    "        print(\"-----------\")\n",
    "        print(\"   |   |\")  \n",
    "        print(\" \" + board[6] + \" | \" + board[7]+ \" | \" +board[8])\n",
    "        print(\"   |   |\")\n",
    "        \n",
    "    def check_win(player_mark, board):\n",
    "        ## If the player has won then there must be 3 consecutive Player values\n",
    "        i=j=0\n",
    "        while(i<=7):\n",
    "            k = bool((board[i]==player_mark and board[i+1]==player_mark and board[i+2]==player_mark) or (board[j]==player_mark and board[j+3]==player_mark and board[j+6]==player_mark))\n",
    "            i+=3\n",
    "            j+=1\n",
    "        return(k or board[0]==player_mark and board[4]==player_mark and board[8]==player_mark or board[2]==player_mark and board[4]==player_mark and board[6]==player_mark)  \n",
    "    \n",
    "    def check_draw(self):\n",
    "        return ' ' not in board\n",
    "    \n",
    "    def board_copy(board):\n",
    "        cpyboard = []\n",
    "        for i in board:\n",
    "            cpyboard.append(i)\n",
    "        return cpyboard\n",
    "\n",
    "    def playerMove():\n",
    "        run = True\n",
    "        while run:\n",
    "            move = input(\" Please select a position to place a 'X' (1-9) : \")\n",
    "            move = move - 1\n",
    "            try:\n",
    "                move = int(move)\n",
    "                if move >= 0 and move < 9:\n",
    "                    if spaceIsFree(move):\n",
    "                        run = false \n",
    "                        insertLetter('X',move)\n",
    "                    else:\n",
    "                        print(\"Sorry this space is occupied!\")\n",
    "                else(\"Please type a number within the range!\")\n",
    "            except:\n",
    "                print(\"Please type a number\")"
   ]
  }
 ],
 "metadata": {
  "kernelspec": {
   "display_name": "Python 3",
   "language": "python",
   "name": "python3"
  },
  "language_info": {
   "codemirror_mode": {
    "name": "ipython",
    "version": 3
   },
   "file_extension": ".py",
   "mimetype": "text/x-python",
   "name": "python",
   "nbconvert_exporter": "python",
   "pygments_lexer": "ipython3",
   "version": "3.7.6"
  },
  "papermill": {
   "duration": 5.140703,
   "end_time": "2020-10-12T04:03:13.300740",
   "environment_variables": {},
   "exception": null,
   "input_path": "__notebook__.ipynb",
   "output_path": "__notebook__.ipynb",
   "parameters": {},
   "start_time": "2020-10-12T04:03:08.160037",
   "version": "2.1.0"
  }
 },
 "nbformat": 4,
 "nbformat_minor": 4
}
