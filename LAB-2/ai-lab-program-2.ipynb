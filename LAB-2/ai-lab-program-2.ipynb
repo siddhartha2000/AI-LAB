{
 "cells": [
  {
   "cell_type": "markdown",
   "metadata": {
    "papermill": {
     "duration": 0.011964,
     "end_time": "2020-10-12T04:54:23.613474",
     "exception": false,
     "start_time": "2020-10-12T04:54:23.601510",
     "status": "completed"
    },
    "tags": []
   },
   "source": [
    "# 8 Puzzle Problem"
   ]
  },
  {
   "cell_type": "markdown",
   "metadata": {
    "papermill": {
     "duration": 0.010223,
     "end_time": "2020-10-12T04:54:23.635957",
     "exception": false,
     "start_time": "2020-10-12T04:54:23.625734",
     "status": "completed"
    },
    "tags": []
   },
   "source": [
    "BMS College of Engineering - Dr Kavitha Sooda <br />\n",
    "BMS College of Engineering - Dr Nagarathna N <br />\n",
    "BMS College of Engineering - Prof G R Asha  <br />\n",
    "##### Class 5C"
   ]
  },
  {
   "cell_type": "markdown",
   "metadata": {
    "papermill": {
     "duration": 0.01011,
     "end_time": "2020-10-12T04:54:23.656805",
     "exception": false,
     "start_time": "2020-10-12T04:54:23.646695",
     "status": "completed"
    },
    "tags": []
   },
   "source": [
    "## Objective\n",
    "\n",
    " Given a 3×3 board with 8 tiles and one empty space \n",
    " - Move the numbers around to match the final configuration using the empty spot \n",
    " - You can slide the numbers from above, below, left and right tiles into the empty space.\n",
    "\n",
    "![](https://media.geeksforgeeks.org/wp-content/uploads/puzzle8init.jpg)"
   ]
  },
  {
   "cell_type": "markdown",
   "metadata": {
    "papermill": {
     "duration": 0.010187,
     "end_time": "2020-10-12T04:54:23.677512",
     "exception": false,
     "start_time": "2020-10-12T04:54:23.667325",
     "status": "completed"
    },
    "tags": []
   },
   "source": [
    "### Iterative Deepening Depth First Search"
   ]
  },
  {
   "cell_type": "markdown",
   "metadata": {
    "papermill": {
     "duration": 0.010252,
     "end_time": "2020-10-12T04:54:23.698650",
     "exception": false,
     "start_time": "2020-10-12T04:54:23.688398",
     "status": "completed"
    },
    "tags": []
   },
   "source": [
    "Lets Start with a DFS function to traverse only to the given depth limit, where it checks if source equals target\n",
    "\n",
    "![](https://media.geeksforgeeks.org/wp-content/uploads/puzzle-1.jpg)"
   ]
  },
  {
   "cell_type": "code",
   "execution_count": 1,
   "metadata": {
    "execution": {
     "iopub.execute_input": "2020-10-12T04:54:23.729550Z",
     "iopub.status.busy": "2020-10-12T04:54:23.728506Z",
     "iopub.status.idle": "2020-10-12T04:54:23.731893Z",
     "shell.execute_reply": "2020-10-12T04:54:23.731078Z"
    },
    "papermill": {
     "duration": 0.02279,
     "end_time": "2020-10-12T04:54:23.732023",
     "exception": false,
     "start_time": "2020-10-12T04:54:23.709233",
     "status": "completed"
    },
    "tags": []
   },
   "outputs": [],
   "source": [
    "# Depth first search in search of target - Using Recursion\n",
    "\n",
    "def dfs(src,target,limit,visited_states):\n",
    "    # Base case if Target found\n",
    "    if src == target:\n",
    "        return True\n",
    "        \n",
    "    \n",
    "    \n",
    "    # Base case if limit exceeded\n",
    "\n",
    "    if limit <=0:\n",
    "        return False\n",
    "    \n",
    "    \n",
    "    # Add source to visited_states\n",
    "    visited_states.append(src)\n",
    "\n",
    "    \n",
    "    \n",
    "    # Find possible slides up, down, left right to current empty site\n",
    "    ### Jump to possible_moves function\n",
    "    poss_moves = possible_moves(src,visited_states)  \n",
    "        \n",
    "        \n",
    "        \n",
    "    # For all possible moves gotten from the possible moves function\n",
    "    # Check if src equals to new targets\n",
    "    # Return True if target found in given depth limit\n",
    "    for poss in poss_moves:\n",
    "        if dfs(poss,target,limit-1,visited_states): return True\n",
    "    return False"
   ]
  },
  {
   "cell_type": "code",
   "execution_count": 2,
   "metadata": {
    "execution": {
     "iopub.execute_input": "2020-10-12T04:54:23.766256Z",
     "iopub.status.busy": "2020-10-12T04:54:23.765117Z",
     "iopub.status.idle": "2020-10-12T04:54:23.768611Z",
     "shell.execute_reply": "2020-10-12T04:54:23.767965Z"
    },
    "papermill": {
     "duration": 0.025607,
     "end_time": "2020-10-12T04:54:23.768737",
     "exception": false,
     "start_time": "2020-10-12T04:54:23.743130",
     "status": "completed"
    },
    "tags": []
   },
   "outputs": [],
   "source": [
    "def possible_moves(state,visited_states): \n",
    "    # Find index of empty spot and assign it to b\n",
    "    b = state.index(-1)\n",
    "    \n",
    "    #'d' for down, 'u' for up, 'r' for right, 'l' for left - directions array\n",
    "    d = []\n",
    "    \n",
    "  \n",
    "                                    \n",
    "    #Add all possible direction into directions array - Hint using if statements\n",
    "    if b-3 in range(9):\n",
    "        d.append('u')\n",
    "    if b+3 in range(9):\n",
    "        d.append('d')\n",
    "    if b not in [0,3,6]: \n",
    "        d.append('l')\n",
    "    if b not in [2,5,8]: \n",
    "        d.append('r')\n",
    "    \n",
    "    \n",
    "    # If direction is possible then add state to move\n",
    "    pos_moves = []\n",
    "    \n",
    "    # for all possible directions find the state if that move is played\n",
    "    ### Jump to gen function to generate all possible moves in the given directions\n",
    "    for move in d:\n",
    "        pos_moves.append(gen(state,move,b))\n",
    "        \n",
    "    # return all possible moves only if the move not in visited_states\n",
    "    return [move for move in pos_moves if move not in visited_states]\n",
    "\n",
    "\n"
   ]
  },
  {
   "cell_type": "code",
   "execution_count": 3,
   "metadata": {
    "execution": {
     "iopub.execute_input": "2020-10-12T04:54:23.802005Z",
     "iopub.status.busy": "2020-10-12T04:54:23.801040Z",
     "iopub.status.idle": "2020-10-12T04:54:23.804550Z",
     "shell.execute_reply": "2020-10-12T04:54:23.803799Z"
    },
    "papermill": {
     "duration": 0.024809,
     "end_time": "2020-10-12T04:54:23.804687",
     "exception": false,
     "start_time": "2020-10-12T04:54:23.779878",
     "status": "completed"
    },
    "tags": []
   },
   "outputs": [],
   "source": [
    "def gen(state, m, b): # m(move) is direction to slide, b(blank) is index of empty spot\n",
    "    # create a copy of current state to test the move\n",
    "    temp = state.copy()                                \n",
    "    \n",
    "    # if move is to slide empty spot to the left and so on\n",
    "    if m == 'u': temp[b], temp[b-3] = temp[b-3], temp[b]\n",
    "    if m == 'd': temp[b], temp[b+3] = temp[b+3], temp[b]\n",
    "    if m == 'l': temp[b], temp[b-1] = temp[b-1], temp[b]\n",
    "    if m == 'r': temp[b], temp[b+1] = temp[b+1], temp[b]\n",
    "    \n",
    "    # return new state with tested move to later check if \"src == target\"\n",
    "    return temp"
   ]
  },
  {
   "cell_type": "markdown",
   "metadata": {
    "papermill": {
     "duration": 0.010865,
     "end_time": "2020-10-12T04:54:23.828567",
     "exception": false,
     "start_time": "2020-10-12T04:54:23.817702",
     "status": "completed"
    },
    "tags": []
   },
   "source": [
    "In the next function:\n",
    "- Start with a depth of 1 until given depth see if target is reached To find the least depth required to find target\n",
    "- Create a visited_stated array to keep a check in all visited sites \n",
    "- Call DFS function for given depth limit"
   ]
  },
  {
   "cell_type": "code",
   "execution_count": 4,
   "metadata": {
    "execution": {
     "iopub.execute_input": "2020-10-12T04:54:23.858561Z",
     "iopub.status.busy": "2020-10-12T04:54:23.857754Z",
     "iopub.status.idle": "2020-10-12T04:54:23.861344Z",
     "shell.execute_reply": "2020-10-12T04:54:23.860605Z"
    },
    "papermill": {
     "duration": 0.021756,
     "end_time": "2020-10-12T04:54:23.861476",
     "exception": false,
     "start_time": "2020-10-12T04:54:23.839720",
     "status": "completed"
    },
    "tags": []
   },
   "outputs": [],
   "source": [
    "def iddfs(src,target,depth):\n",
    "    states = []\n",
    "    # Return Min depth at which the target was found\n",
    "    for i in range(1,depth+1):\n",
    "        if dfs(src, target, i, states): return True\n",
    "    return False\n"
   ]
  },
  {
   "cell_type": "code",
   "execution_count": 5,
   "metadata": {
    "execution": {
     "iopub.execute_input": "2020-10-12T04:54:23.894874Z",
     "iopub.status.busy": "2020-10-12T04:54:23.894057Z",
     "iopub.status.idle": "2020-10-12T04:54:23.898813Z",
     "shell.execute_reply": "2020-10-12T04:54:23.899418Z"
    },
    "papermill": {
     "duration": 0.026569,
     "end_time": "2020-10-12T04:54:23.899572",
     "exception": false,
     "start_time": "2020-10-12T04:54:23.873003",
     "status": "completed"
    },
    "tags": []
   },
   "outputs": [
    {
     "data": {
      "text/plain": [
       "False"
      ]
     },
     "execution_count": 5,
     "metadata": {},
     "output_type": "execute_result"
    }
   ],
   "source": [
    "#Test 1\n",
    "src = [1,2,3,-1,4,5,6,7,8]\n",
    "target = [1,2,3,4,5,-1,6,7,8]         \n",
    "       \n",
    "\n",
    "\n",
    "depth = 1\n",
    "iddfs(src, target, depth) # Minimum depth should be 2"
   ]
  },
  {
   "cell_type": "code",
   "execution_count": 6,
   "metadata": {
    "execution": {
     "iopub.execute_input": "2020-10-12T04:54:23.932419Z",
     "iopub.status.busy": "2020-10-12T04:54:23.931343Z",
     "iopub.status.idle": "2020-10-12T04:54:23.934768Z",
     "shell.execute_reply": "2020-10-12T04:54:23.935396Z"
    },
    "papermill": {
     "duration": 0.023607,
     "end_time": "2020-10-12T04:54:23.935547",
     "exception": false,
     "start_time": "2020-10-12T04:54:23.911940",
     "status": "completed"
    },
    "tags": []
   },
   "outputs": [
    {
     "data": {
      "text/plain": [
       "True"
      ]
     },
     "execution_count": 6,
     "metadata": {},
     "output_type": "execute_result"
    }
   ],
   "source": [
    "# Test 2\n",
    "src = [1,2,3,-1,4,5,6,7,8] \n",
    "target=[1,2,3,6,4,5,-1,7,8]\n",
    "\n",
    "depth = 1\n",
    "iddfs(src, target, depth) # Minimum depth is 1"
   ]
  },
  {
   "cell_type": "code",
   "execution_count": 7,
   "metadata": {
    "execution": {
     "iopub.execute_input": "2020-10-12T04:54:23.967689Z",
     "iopub.status.busy": "2020-10-12T04:54:23.966735Z",
     "iopub.status.idle": "2020-10-12T04:54:23.970865Z",
     "shell.execute_reply": "2020-10-12T04:54:23.971417Z"
    },
    "papermill": {
     "duration": 0.023368,
     "end_time": "2020-10-12T04:54:23.971580",
     "exception": false,
     "start_time": "2020-10-12T04:54:23.948212",
     "status": "completed"
    },
    "tags": []
   },
   "outputs": [
    {
     "data": {
      "text/plain": [
       "True"
      ]
     },
     "execution_count": 7,
     "metadata": {},
     "output_type": "execute_result"
    }
   ],
   "source": [
    "# Test 3\n",
    "# Try to create a source and target that reaches large minimum required depth \n",
    "src = None\n",
    "target = None\n",
    "\n",
    "\n",
    "\n",
    "\n",
    "\n",
    "\n",
    "iddfs(src, target, depth) # I have reached 25 in the next cell, Lets see if u can beat that"
   ]
  },
  {
   "cell_type": "code",
   "execution_count": 8,
   "metadata": {
    "execution": {
     "iopub.execute_input": "2020-10-12T04:54:24.011453Z",
     "iopub.status.busy": "2020-10-12T04:54:24.010101Z",
     "iopub.status.idle": "2020-10-12T04:54:24.055620Z",
     "shell.execute_reply": "2020-10-12T04:54:24.054619Z"
    },
    "papermill": {
     "duration": 0.070963,
     "end_time": "2020-10-12T04:54:24.055808",
     "exception": false,
     "start_time": "2020-10-12T04:54:23.984845",
     "status": "completed"
    },
    "tags": []
   },
   "outputs": [
    {
     "name": "stdout",
     "output_type": "stream",
     "text": [
      "1 False\n",
      "2 False\n",
      "3 False\n",
      "4 False\n",
      "5 False\n",
      "6 False\n",
      "7 False\n",
      "8 False\n",
      "9 False\n",
      "10 False\n",
      "11 False\n",
      "12 False\n",
      "13 False\n",
      "14 False\n",
      "15 False\n",
      "16 False\n",
      "17 False\n",
      "18 False\n",
      "19 False\n",
      "20 False\n",
      "21 False\n",
      "22 False\n",
      "23 False\n",
      "24 False\n",
      "25 False\n",
      "26 False\n",
      "27 False\n",
      "28 False\n",
      "29 False\n",
      "30 False\n",
      "31 False\n",
      "32 False\n",
      "33 False\n",
      "34 False\n",
      "35 False\n",
      "36 False\n",
      "37 False\n",
      "38 False\n",
      "39 False\n",
      "40 False\n",
      "41 False\n",
      "42 False\n",
      "43 False\n",
      "44 False\n",
      "45 False\n",
      "46 False\n",
      "47 False\n",
      "48 False\n",
      "49 False\n",
      "50 False\n",
      "51 False\n",
      "52 False\n",
      "53 False\n",
      "54 False\n",
      "55 False\n",
      "56 False\n",
      "57 False\n",
      "58 False\n",
      "59 False\n",
      "60 False\n",
      "61 False\n",
      "62 False\n",
      "63 False\n",
      "64 False\n",
      "65 False\n",
      "66 False\n",
      "67 False\n",
      "68 False\n",
      "69 False\n",
      "70 False\n",
      "71 False\n",
      "72 False\n",
      "73 False\n",
      "74 False\n",
      "75 False\n",
      "76 False\n",
      "77 False\n",
      "78 False\n",
      "79 False\n",
      "80 False\n",
      "81 False\n",
      "82 False\n",
      "83 False\n",
      "84 False\n",
      "85 False\n",
      "86 False\n",
      "87 False\n",
      "88 False\n",
      "89 False\n",
      "90 False\n",
      "91 False\n",
      "92 False\n",
      "93 False\n",
      "94 False\n",
      "95 False\n",
      "96 False\n",
      "97 False\n",
      "98 False\n",
      "99 False\n"
     ]
    }
   ],
   "source": [
    "# Maximum Change \n",
    "# An Experiemnt I did to try and find the maximum required depth assuming \n",
    "# that this was the biggest possible change from src to target\n",
    "\n",
    "## Uncomment to try\n",
    "src = [1, 2, 3, 4, 5, 6, 7, 8, -1]\n",
    "target = [-1, 1, 2, 3, 4, 5, 6, 7, 8]\n",
    "\n",
    "for i in range(1, 100):\n",
    "    val = iddfs(src,target,i)\n",
    "    print(i, val)\n",
    "    if val == True:\n",
    "        break"
   ]
  }
 ],
 "metadata": {
  "kernelspec": {
   "display_name": "Python 3",
   "language": "python",
   "name": "python3"
  },
  "language_info": {
   "codemirror_mode": {
    "name": "ipython",
    "version": 3
   },
   "file_extension": ".py",
   "mimetype": "text/x-python",
   "name": "python",
   "nbconvert_exporter": "python",
   "pygments_lexer": "ipython3",
   "version": "3.7.6"
  },
  "papermill": {
   "duration": 5.746488,
   "end_time": "2020-10-12T04:54:24.181417",
   "environment_variables": {},
   "exception": null,
   "input_path": "__notebook__.ipynb",
   "output_path": "__notebook__.ipynb",
   "parameters": {},
   "start_time": "2020-10-12T04:54:18.434929",
   "version": "2.1.0"
  }
 },
 "nbformat": 4,
 "nbformat_minor": 4
}
