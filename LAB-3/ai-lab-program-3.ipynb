{
 "cells": [
  {
   "cell_type": "markdown",
   "metadata": {
    "_cell_guid": "b1076dfc-b9ad-4769-8c92-a6c4dae69d19",
    "_uuid": "8f2839f25d086af736a60e9eeb907d3b93b6e0e5",
    "papermill": {
     "duration": 0.009865,
     "end_time": "2020-11-08T22:39:20.581270",
     "exception": false,
     "start_time": "2020-11-08T22:39:20.571405",
     "status": "completed"
    },
    "tags": []
   },
   "source": [
    "# 8 Puzzle Problem"
   ]
  },
  {
   "cell_type": "markdown",
   "metadata": {
    "_cell_guid": "79c7e3d0-c299-4dcb-8224-4455121ee9b0",
    "_uuid": "d629ff2d2480ee46fbb7e2d37f6b5fab8052498a",
    "collapsed": true,
    "papermill": {
     "duration": 0.008309,
     "end_time": "2020-11-08T22:39:20.599108",
     "exception": false,
     "start_time": "2020-11-08T22:39:20.590799",
     "status": "completed"
    },
    "tags": []
   },
   "source": [
    "BMS College of Engineering - Dr Kavitha Sooda <br />\n",
    "BMS College of Engineering - Dr Nagarathna N <br />\n",
    "BMS College of Engineering - Prof G R Asha  <br />\n",
    "##### Class 5C"
   ]
  },
  {
   "cell_type": "markdown",
   "metadata": {
    "papermill": {
     "duration": 0.008235,
     "end_time": "2020-11-08T22:39:20.615979",
     "exception": false,
     "start_time": "2020-11-08T22:39:20.607744",
     "status": "completed"
    },
    "tags": []
   },
   "source": [
    "## Objective\n",
    " Given a 3×3 board with 8 tiles and one empty space \n",
    " - Move the numbers around to match the final configuration using the empty spot \n",
    " - You can slide the numbers from above, below, left and right tiles into the empty space.\n",
    "![](https://media.geeksforgeeks.org/wp-content/uploads/puzzle8init.jpg)"
   ]
  },
  {
   "cell_type": "markdown",
   "metadata": {
    "papermill": {
     "duration": 0.00822,
     "end_time": "2020-11-08T22:39:20.632887",
     "exception": false,
     "start_time": "2020-11-08T22:39:20.624667",
     "status": "completed"
    },
    "tags": []
   },
   "source": [
    "Try and use a Brute Force Algorithms\n",
    "\n",
    "![](https://media.geeksforgeeks.org/wp-content/uploads/puzzle-1.jpg)"
   ]
  },
  {
   "cell_type": "code",
   "execution_count": 1,
   "metadata": {
    "execution": {
     "iopub.execute_input": "2020-11-08T22:39:20.659826Z",
     "iopub.status.busy": "2020-11-08T22:39:20.658849Z",
     "iopub.status.idle": "2020-11-08T22:39:20.662810Z",
     "shell.execute_reply": "2020-11-08T22:39:20.661902Z"
    },
    "papermill": {
     "duration": 0.021545,
     "end_time": "2020-11-08T22:39:20.662959",
     "exception": false,
     "start_time": "2020-11-08T22:39:20.641414",
     "status": "completed"
    },
    "tags": []
   },
   "outputs": [],
   "source": [
    "\n",
    "def bfs(src,target):\n",
    "    # Use brute force technique\n",
    "    arr = [src]\n",
    "    c = 0\n",
    "    while arr:\n",
    "        c += 1                                                                            \n",
    "        if arr[0] == target:  \n",
    "            print(\"Successfully found after \",c , \" iterations\")\n",
    "            return True\n",
    "            \n",
    "        arr += possible_moves(arr[0])                    \n",
    "        arr.pop(0)                                                                    \n",
    "    return False"
   ]
  },
  {
   "cell_type": "code",
   "execution_count": 2,
   "metadata": {
    "execution": {
     "iopub.execute_input": "2020-11-08T22:39:20.695545Z",
     "iopub.status.busy": "2020-11-08T22:39:20.694642Z",
     "iopub.status.idle": "2020-11-08T22:39:20.698206Z",
     "shell.execute_reply": "2020-11-08T22:39:20.697474Z"
    },
    "papermill": {
     "duration": 0.025985,
     "end_time": "2020-11-08T22:39:20.698373",
     "exception": false,
     "start_time": "2020-11-08T22:39:20.672388",
     "status": "completed"
    },
    "tags": []
   },
   "outputs": [],
   "source": [
    "# Find Possible Moves\n",
    "def possible_moves(state): \n",
    "    b = state.index(-1)\n",
    "    \n",
    "    d = []\n",
    "    \n",
    "  \n",
    "                                    \n",
    "    if b-3 in range(9):\n",
    "        d.append('u')\n",
    "    if b+3 in range(9):\n",
    "        d.append('d')\n",
    "    if b not in [0,3,6]: \n",
    "        d.append('l')\n",
    "    if b not in [2,5,8]: \n",
    "        d.append('r')\n",
    "    \n",
    "    \n",
    "    # If direction is possible then add state to move\n",
    "    pos_moves = []\n",
    "    \n",
    "    # for all possible directions find the state if that move is played\n",
    "    ### Jump to gen function to generate all possible moves in the given directions\n",
    "    for move in d:\n",
    "        pos_moves.append(gen(state,move,b))\n",
    "        \n",
    "    return pos_moves"
   ]
  },
  {
   "cell_type": "code",
   "execution_count": 3,
   "metadata": {
    "execution": {
     "iopub.execute_input": "2020-11-08T22:39:20.728480Z",
     "iopub.status.busy": "2020-11-08T22:39:20.727546Z",
     "iopub.status.idle": "2020-11-08T22:39:20.731451Z",
     "shell.execute_reply": "2020-11-08T22:39:20.730815Z"
    },
    "papermill": {
     "duration": 0.024043,
     "end_time": "2020-11-08T22:39:20.731594",
     "exception": false,
     "start_time": "2020-11-08T22:39:20.707551",
     "status": "completed"
    },
    "tags": []
   },
   "outputs": [],
   "source": [
    "\n",
    "# Generate move for given direction\n",
    "def gen(state, m, b):\n",
    "    temp = state.copy()                                \n",
    "    \n",
    "    # if move is to slide empty spot to the left and so on\n",
    "    if m == 'u': temp[b], temp[b-3] = temp[b-3], temp[b]\n",
    "    if m == 'd': temp[b], temp[b+3] = temp[b+3], temp[b]\n",
    "    if m == 'l': temp[b], temp[b-1] = temp[b-1], temp[b]\n",
    "    if m == 'r': temp[b], temp[b+1] = temp[b+1], temp[b]\n",
    "    \n",
    "    # return new state with tested move to later check if \"src == target\"\n",
    "    return temp"
   ]
  },
  {
   "cell_type": "code",
   "execution_count": 4,
   "metadata": {
    "execution": {
     "iopub.execute_input": "2020-11-08T22:39:20.761941Z",
     "iopub.status.busy": "2020-11-08T22:39:20.761001Z",
     "iopub.status.idle": "2020-11-08T22:39:20.767686Z",
     "shell.execute_reply": "2020-11-08T22:39:20.766922Z"
    },
    "papermill": {
     "duration": 0.02678,
     "end_time": "2020-11-08T22:39:20.767822",
     "exception": false,
     "start_time": "2020-11-08T22:39:20.741042",
     "status": "completed"
    },
    "tags": []
   },
   "outputs": [
    {
     "name": "stdout",
     "output_type": "stream",
     "text": [
      "Successfully found after  12  iterations\n"
     ]
    },
    {
     "data": {
      "text/plain": [
       "True"
      ]
     },
     "execution_count": 4,
     "metadata": {},
     "output_type": "execute_result"
    }
   ],
   "source": [
    "#Test 1\n",
    "src = [1,2,3,-1,4,5,6,7,8]\n",
    "target = [1,2,3,4,5,-1,6,7,8]         \n",
    "       \n",
    "bfs(src, target)"
   ]
  },
  {
   "cell_type": "code",
   "execution_count": 5,
   "metadata": {
    "execution": {
     "iopub.execute_input": "2020-11-08T22:39:20.799508Z",
     "iopub.status.busy": "2020-11-08T22:39:20.798342Z",
     "iopub.status.idle": "2020-11-08T22:39:20.803716Z",
     "shell.execute_reply": "2020-11-08T22:39:20.804541Z"
    },
    "papermill": {
     "duration": 0.02557,
     "end_time": "2020-11-08T22:39:20.804758",
     "exception": false,
     "start_time": "2020-11-08T22:39:20.779188",
     "status": "completed"
    },
    "tags": []
   },
   "outputs": [
    {
     "name": "stdout",
     "output_type": "stream",
     "text": [
      "Successfully found after  3  iterations\n"
     ]
    },
    {
     "data": {
      "text/plain": [
       "True"
      ]
     },
     "execution_count": 5,
     "metadata": {},
     "output_type": "execute_result"
    }
   ],
   "source": [
    "# Test 2\n",
    "src = [1,2,3,-1,4,5,6,7,8] \n",
    "target=[1,2,3,6,4,5,-1,7,8]\n",
    "\n",
    "\n",
    "\n",
    "bfs(src, target)"
   ]
  },
  {
   "cell_type": "markdown",
   "metadata": {
    "papermill": {
     "duration": 0.010966,
     "end_time": "2020-11-08T22:39:20.827742",
     "exception": false,
     "start_time": "2020-11-08T22:39:20.816776",
     "status": "completed"
    },
    "tags": []
   },
   "source": [
    "# Challenge"
   ]
  },
  {
   "cell_type": "markdown",
   "metadata": {
    "papermill": {
     "duration": 0.011082,
     "end_time": "2020-11-08T22:39:20.850205",
     "exception": false,
     "start_time": "2020-11-08T22:39:20.839123",
     "status": "completed"
    },
    "tags": []
   },
   "source": [
    "1. Change the above functions to add memory so the a site already checked isnt visited again\n",
    "2. Try another brute force algorithm to find the solution"
   ]
  }
 ],
 "metadata": {
  "kernelspec": {
   "display_name": "Python 3",
   "language": "python",
   "name": "python3"
  },
  "language_info": {
   "codemirror_mode": {
    "name": "ipython",
    "version": 3
   },
   "file_extension": ".py",
   "mimetype": "text/x-python",
   "name": "python",
   "nbconvert_exporter": "python",
   "pygments_lexer": "ipython3",
   "version": "3.7.6"
  },
  "papermill": {
   "duration": 5.680706,
   "end_time": "2020-11-08T22:39:20.970026",
   "environment_variables": {},
   "exception": null,
   "input_path": "__notebook__.ipynb",
   "output_path": "__notebook__.ipynb",
   "parameters": {},
   "start_time": "2020-11-08T22:39:15.289320",
   "version": "2.1.0"
  }
 },
 "nbformat": 4,
 "nbformat_minor": 4
}
