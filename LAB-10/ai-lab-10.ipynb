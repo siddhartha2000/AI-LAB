{
 "cells": [
  {
   "cell_type": "code",
   "execution_count": 1,
   "metadata": {
    "_cell_guid": "79c7e3d0-c299-4dcb-8224-4455121ee9b0",
    "_uuid": "d629ff2d2480ee46fbb7e2d37f6b5fab8052498a",
    "execution": {
     "iopub.execute_input": "2020-12-21T04:33:05.293740Z",
     "iopub.status.busy": "2020-12-21T04:33:05.292872Z",
     "iopub.status.idle": "2020-12-21T04:33:05.298882Z",
     "shell.execute_reply": "2020-12-21T04:33:05.299375Z"
    },
    "papermill": {
     "duration": 0.013871,
     "end_time": "2020-12-21T04:33:05.299504",
     "exception": false,
     "start_time": "2020-12-21T04:33:05.285633",
     "status": "completed"
    },
    "tags": []
   },
   "outputs": [],
   "source": [
    "import re\n",
    "\n",
    "def isVariable(x):\n",
    "    return len(x) == 1 and x.islower() and x.isalpha()\n",
    "\n",
    "def getAttributes(string):\n",
    "    expr = '\\([^)]+\\)'\n",
    "    matches = re.findall(expr, string)\n",
    "    return matches\n",
    "\n",
    "def getPredicates(string):\n",
    "    expr = '([a-z~]+)\\([^&|]+\\)'\n",
    "    return re.findall(expr, string)"
   ]
  },
  {
   "cell_type": "code",
   "execution_count": 2,
   "metadata": {
    "execution": {
     "iopub.execute_input": "2020-12-21T04:33:05.331837Z",
     "iopub.status.busy": "2020-12-21T04:33:05.331077Z",
     "iopub.status.idle": "2020-12-21T04:33:05.333966Z",
     "shell.execute_reply": "2020-12-21T04:33:05.334466Z"
    },
    "papermill": {
     "duration": 0.031143,
     "end_time": "2020-12-21T04:33:05.334582",
     "exception": false,
     "start_time": "2020-12-21T04:33:05.303439",
     "status": "completed"
    },
    "tags": []
   },
   "outputs": [],
   "source": [
    "class Fact:\n",
    "    def __init__(self, expression):\n",
    "        self.expression = expression\n",
    "        predicate, params = self.splitExpression(expression)\n",
    "        self.predicate = predicate\n",
    "        self.params = params\n",
    "        self.result = any(self.getConstants())\n",
    "        \n",
    "    def splitExpression(self, expression):\n",
    "        predicate = getPredicates(expression)[0]\n",
    "        params = getAttributes(expression)[0].strip('()').split(',')\n",
    "        return [predicate, params]\n",
    "    \n",
    "    def getResult(self):\n",
    "        return self.result\n",
    "    \n",
    "    def getConstants(self):\n",
    "        return [None if isVariable(c) else c for c in self.params]\n",
    "    \n",
    "    def getVariables(self):\n",
    "        return [v if isVariable(v) else None for v in self.params]\n",
    "    \n",
    "    def substitute(self, constants):\n",
    "        c = constants.copy()\n",
    "        f = f\"{self.predicate}({','.join([constants.pop(0) if isVariable(p) else p for p in self.params])})\"\n",
    "        return Fact(f)\n",
    "    \n",
    "class Implication:\n",
    "    def __init__(self, expression):\n",
    "        self.expression = expression\n",
    "        l = expression.split('=>')\n",
    "        self.lhs = [Fact(f) for f in l[0].split('&')]\n",
    "        self.rhs = Fact(l[1])\n",
    "        \n",
    "    def evaluate(self, facts):\n",
    "        constants = {}\n",
    "        new_lhs = []\n",
    "        for fact in facts:\n",
    "            for val in self.lhs:\n",
    "                if val.predicate == fact.predicate:\n",
    "                    for i, v in enumerate(val.getVariables()):\n",
    "                        if v:\n",
    "                            constants[v] = fact.getConstants()[i]\n",
    "                    new_lhs.append(fact)\n",
    "        predicate, attributes = getPredicates(self.rhs.expression)[0], str(getAttributes(self.rhs.expression)[0])\n",
    "        for key in constants:\n",
    "            if constants[key]:\n",
    "                attributes = attributes.replace(key, constants[key])\n",
    "        expr = f'{predicate}{attributes}'\n",
    "        return Fact(expr) if len(new_lhs) and all([f.getResult() for f in new_lhs]) else None\n",
    "\n",
    "class KB:\n",
    "    def __init__(self):\n",
    "        self.facts = set()\n",
    "        self.implications = set()\n",
    "            \n",
    "    def tell(self, e):\n",
    "        if '=>' in e:\n",
    "            self.implications.add(Implication(e))\n",
    "        else:\n",
    "            self.facts.add(Fact(e))\n",
    "        for i in self.implications:\n",
    "            res = i.evaluate(self.facts)\n",
    "            if res:\n",
    "                self.facts.add(res)\n",
    "\n",
    "    def query(self, e):\n",
    "        facts = set([f.expression for f in self.facts])\n",
    "        i = 1\n",
    "        print(f'Querying {e}:')\n",
    "        for f in facts:\n",
    "            if Fact(f).predicate == Fact(e).predicate:\n",
    "                print(f'\\t{i}. {f}')\n",
    "                i += 1\n",
    "    \n",
    "    def display(self):\n",
    "        print(\"All facts: \")\n",
    "        for i, f in enumerate(set([f.expression for f in self.facts])):\n",
    "            print(f'\\t{i+1}. {f}')"
   ]
  },
  {
   "cell_type": "code",
   "execution_count": 3,
   "metadata": {
    "execution": {
     "iopub.execute_input": "2020-12-21T04:33:05.348439Z",
     "iopub.status.busy": "2020-12-21T04:33:05.347629Z",
     "iopub.status.idle": "2020-12-21T04:33:05.350641Z",
     "shell.execute_reply": "2020-12-21T04:33:05.351346Z"
    },
    "papermill": {
     "duration": 0.013524,
     "end_time": "2020-12-21T04:33:05.351455",
     "exception": false,
     "start_time": "2020-12-21T04:33:05.337931",
     "status": "completed"
    },
    "tags": []
   },
   "outputs": [
    {
     "name": "stdout",
     "output_type": "stream",
     "text": [
      "Querying criminal(x):\n",
      "\t1. criminal(West)\n",
      "All facts: \n",
      "\t1. weapon(M1)\n",
      "\t2. missile(M1)\n",
      "\t3. sells(West,M1,Nono)\n",
      "\t4. hostile(Nono)\n",
      "\t5. owns(Nono,M1)\n",
      "\t6. american(West)\n",
      "\t7. enemy(Nono,America)\n",
      "\t8. criminal(West)\n"
     ]
    }
   ],
   "source": [
    "kb = KB()\n",
    "kb.tell('missile(x)=>weapon(x)')\n",
    "kb.tell('missile(M1)')\n",
    "kb.tell('enemy(x,America)=>hostile(x)')\n",
    "kb.tell('american(West)')\n",
    "kb.tell('enemy(Nono,America)')\n",
    "kb.tell('owns(Nono,M1)')\n",
    "kb.tell('missile(x)&owns(Nono,x)=>sells(West,x,Nono)')\n",
    "kb.tell('american(x)&weapon(y)&sells(x,y,z)&hostile(z)=>criminal(x)')\n",
    "kb.query('criminal(x)')\n",
    "kb.display()"
   ]
  },
  {
   "cell_type": "code",
   "execution_count": 4,
   "metadata": {
    "execution": {
     "iopub.execute_input": "2020-12-21T04:33:05.366109Z",
     "iopub.status.busy": "2020-12-21T04:33:05.365296Z",
     "iopub.status.idle": "2020-12-21T04:33:05.368688Z",
     "shell.execute_reply": "2020-12-21T04:33:05.368183Z"
    },
    "papermill": {
     "duration": 0.013125,
     "end_time": "2020-12-21T04:33:05.368767",
     "exception": false,
     "start_time": "2020-12-21T04:33:05.355642",
     "status": "completed"
    },
    "tags": []
   },
   "outputs": [
    {
     "name": "stdout",
     "output_type": "stream",
     "text": [
      "Querying criminal(x):\n",
      "\t1. criminal(West)\n",
      "All facts: \n",
      "\t1. weapon(M1)\n",
      "\t2. missile(M1)\n",
      "\t3. sells(West,M1,Nono)\n",
      "\t4. hostile(Nono)\n",
      "\t5. owns(Nono,M1)\n",
      "\t6. american(West)\n",
      "\t7. enemy(Nono,America)\n",
      "\t8. criminal(West)\n"
     ]
    }
   ],
   "source": [
    "kb = KB()\n",
    "kb.tell('missile(x)=>weapon(x)')\n",
    "kb.tell('missile(M1)')\n",
    "kb.tell('enemy(x,America)=>hostile(x)')\n",
    "kb.tell('american(West)')\n",
    "kb.tell('enemy(Nono,America)')\n",
    "kb.tell('owns(Nono,M1)')\n",
    "kb.tell('missile(x)&owns(Nono,x)=>sells(West,x,Nono)')\n",
    "kb.tell('american(x)&weapon(y)&sells(x,y,z)&hostile(z)=>criminal(x)')\n",
    "kb.query('criminal(x)')\n",
    "kb.display()"
   ]
  }
 ],
 "metadata": {
  "kernelspec": {
   "display_name": "Python 3",
   "language": "python",
   "name": "python3"
  },
  "language_info": {
   "codemirror_mode": {
    "name": "ipython",
    "version": 3
   },
   "file_extension": ".py",
   "mimetype": "text/x-python",
   "name": "python",
   "nbconvert_exporter": "python",
   "pygments_lexer": "ipython3",
   "version": "3.7.6"
  },
  "papermill": {
   "duration": 4.162156,
   "end_time": "2020-12-21T04:33:05.478636",
   "environment_variables": {},
   "exception": null,
   "input_path": "__notebook__.ipynb",
   "output_path": "__notebook__.ipynb",
   "parameters": {},
   "start_time": "2020-12-21T04:33:01.316480",
   "version": "2.1.0"
  }
 },
 "nbformat": 4,
 "nbformat_minor": 4
}
